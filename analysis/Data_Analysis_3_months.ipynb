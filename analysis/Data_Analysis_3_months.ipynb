{
 "cells": [
  {
   "cell_type": "markdown",
   "metadata": {},
   "source": [
    "# **Analysis of 3 months of data**\n",
    "Data spans from January 1st 2021 until March 31st 2021.\n",
    "Information we want from this analysis:\n",
    "- What time do we activate the detector for the first time of the day?\n",
    "- How much time do we spend in the kitchen per day?\n",
    "For both questions, the goal is to provide the mean, standard deviation and a graph that shows the first time over the days and outlines the mean +/- 1 standard deviation\n",
    "\n",
    "## **Get the dataframe ready for analysis**"
   ]
  },
  {
   "cell_type": "code",
   "execution_count": 1,
   "metadata": {},
   "outputs": [],
   "source": [
    "import pandas as pd"
   ]
  },
  {
   "cell_type": "code",
   "execution_count": 2,
   "metadata": {},
   "outputs": [],
   "source": [
    "df = pd.read_csv(\"data3months.csv\", sep = '\\t')"
   ]
  },
  {
   "cell_type": "code",
   "execution_count": 3,
   "metadata": {},
   "outputs": [
    {
     "data": {
      "text/html": [
       "<div>\n",
       "<style scoped>\n",
       "    .dataframe tbody tr th:only-of-type {\n",
       "        vertical-align: middle;\n",
       "    }\n",
       "\n",
       "    .dataframe tbody tr th {\n",
       "        vertical-align: top;\n",
       "    }\n",
       "\n",
       "    .dataframe thead th {\n",
       "        text-align: right;\n",
       "    }\n",
       "</style>\n",
       "<table border=\"1\" class=\"dataframe\">\n",
       "  <thead>\n",
       "    <tr style=\"text-align: right;\">\n",
       "      <th></th>\n",
       "      <th>Date</th>\n",
       "      <th>Equipment</th>\n",
       "      <th>Type</th>\n",
       "      <th>Value</th>\n",
       "      <th>Unit</th>\n",
       "    </tr>\n",
       "  </thead>\n",
       "  <tbody>\n",
       "    <tr>\n",
       "      <th>0</th>\n",
       "      <td>2021-01-01 00:00:00</td>\n",
       "      <td>5MultiSensor 6 (ZW100)</td>\n",
       "      <td>HUMIDITY</td>\n",
       "      <td>38,000000000</td>\n",
       "      <td>%</td>\n",
       "    </tr>\n",
       "    <tr>\n",
       "      <th>1</th>\n",
       "      <td>2021-01-01 01:00:00</td>\n",
       "      <td>5MultiSensor 6 (ZW100)</td>\n",
       "      <td>HUMIDITY</td>\n",
       "      <td>36,500000000</td>\n",
       "      <td>%</td>\n",
       "    </tr>\n",
       "    <tr>\n",
       "      <th>2</th>\n",
       "      <td>2021-01-01 02:00:00</td>\n",
       "      <td>5MultiSensor 6 (ZW100)</td>\n",
       "      <td>HUMIDITY</td>\n",
       "      <td>35,500000000</td>\n",
       "      <td>%</td>\n",
       "    </tr>\n",
       "    <tr>\n",
       "      <th>3</th>\n",
       "      <td>2021-01-01 03:00:00</td>\n",
       "      <td>5MultiSensor 6 (ZW100)</td>\n",
       "      <td>HUMIDITY</td>\n",
       "      <td>35,000000000</td>\n",
       "      <td>%</td>\n",
       "    </tr>\n",
       "    <tr>\n",
       "      <th>4</th>\n",
       "      <td>2021-01-01 03:15:00</td>\n",
       "      <td>5MultiSensor 6 (ZW100)</td>\n",
       "      <td>HUMIDITY</td>\n",
       "      <td>35,000000000</td>\n",
       "      <td>%</td>\n",
       "    </tr>\n",
       "  </tbody>\n",
       "</table>\n",
       "</div>"
      ],
      "text/plain": [
       "                  Date               Equipment      Type         Value Unit\n",
       "0  2021-01-01 00:00:00  5MultiSensor 6 (ZW100)  HUMIDITY  38,000000000    %\n",
       "1  2021-01-01 01:00:00  5MultiSensor 6 (ZW100)  HUMIDITY  36,500000000    %\n",
       "2  2021-01-01 02:00:00  5MultiSensor 6 (ZW100)  HUMIDITY  35,500000000    %\n",
       "3  2021-01-01 03:00:00  5MultiSensor 6 (ZW100)  HUMIDITY  35,000000000    %\n",
       "4  2021-01-01 03:15:00  5MultiSensor 6 (ZW100)  HUMIDITY  35,000000000    %"
      ]
     },
     "execution_count": 3,
     "metadata": {},
     "output_type": "execute_result"
    }
   ],
   "source": [
    "df.head()"
   ]
  },
  {
   "cell_type": "code",
   "execution_count": 4,
   "metadata": {},
   "outputs": [
    {
     "name": "stdout",
     "output_type": "stream",
     "text": [
      "<class 'pandas.core.frame.DataFrame'>\n",
      "RangeIndex: 15050 entries, 0 to 15049\n",
      "Data columns (total 5 columns):\n",
      " #   Column     Non-Null Count  Dtype \n",
      "---  ------     --------------  ----- \n",
      " 0   Date       15050 non-null  object\n",
      " 1   Equipment  15050 non-null  object\n",
      " 2   Type       15050 non-null  object\n",
      " 3   Value      15050 non-null  object\n",
      " 4   Unit       6582 non-null   object\n",
      "dtypes: object(5)\n",
      "memory usage: 588.0+ KB\n"
     ]
    }
   ],
   "source": [
    "df.info()"
   ]
  },
  {
   "cell_type": "code",
   "execution_count": 5,
   "metadata": {},
   "outputs": [
    {
     "data": {
      "text/plain": [
       "NaN    8468\n",
       "%      2194\n",
       "°C     2194\n",
       "Lux    2194\n",
       "Name: Unit, dtype: int64"
      ]
     },
     "execution_count": 5,
     "metadata": {},
     "output_type": "execute_result"
    }
   ],
   "source": [
    "df['Unit'].value_counts(dropna = False)"
   ]
  },
  {
   "cell_type": "markdown",
   "metadata": {},
   "source": [
    "## **Replace decimal marker**\n",
    "In France, the decimal marker is a comma --> Need to change to a dot."
   ]
  },
  {
   "cell_type": "code",
   "execution_count": 6,
   "metadata": {},
   "outputs": [
    {
     "data": {
      "text/plain": [
       "0    38,000000000\n",
       "1    36,500000000\n",
       "2    35,500000000\n",
       "3    35,000000000\n",
       "4    35,000000000\n",
       "Name: Value, dtype: object"
      ]
     },
     "execution_count": 6,
     "metadata": {},
     "output_type": "execute_result"
    }
   ],
   "source": [
    "df[\"Value\"].head()"
   ]
  },
  {
   "cell_type": "code",
   "execution_count": 7,
   "metadata": {},
   "outputs": [],
   "source": [
    "df[\"Value\"] = df[\"Value\"].str.replace(',','.')"
   ]
  },
  {
   "cell_type": "code",
   "execution_count": 8,
   "metadata": {},
   "outputs": [
    {
     "data": {
      "text/plain": [
       "0    38.000000000\n",
       "1    36.500000000\n",
       "2    35.500000000\n",
       "3    35.000000000\n",
       "4    35.000000000\n",
       "Name: Value, dtype: object"
      ]
     },
     "execution_count": 8,
     "metadata": {},
     "output_type": "execute_result"
    }
   ],
   "source": [
    "df[\"Value\"].head()"
   ]
  },
  {
   "cell_type": "markdown",
   "metadata": {},
   "source": [
    "## **Convert data type from object to float**\n",
    "The **Value** column contains data we want to analyze but the data is an object. Only if the data is considered as floats or integers can these data be analyzed."
   ]
  },
  {
   "cell_type": "code",
   "execution_count": 9,
   "metadata": {},
   "outputs": [],
   "source": [
    "df[\"Value\"] = df['Value'].astype(float)"
   ]
  },
  {
   "cell_type": "code",
   "execution_count": 10,
   "metadata": {},
   "outputs": [
    {
     "name": "stdout",
     "output_type": "stream",
     "text": [
      "<class 'pandas.core.frame.DataFrame'>\n",
      "RangeIndex: 15050 entries, 0 to 15049\n",
      "Data columns (total 5 columns):\n",
      " #   Column     Non-Null Count  Dtype  \n",
      "---  ------     --------------  -----  \n",
      " 0   Date       15050 non-null  object \n",
      " 1   Equipment  15050 non-null  object \n",
      " 2   Type       15050 non-null  object \n",
      " 3   Value      15050 non-null  float64\n",
      " 4   Unit       6582 non-null   object \n",
      "dtypes: float64(1), object(4)\n",
      "memory usage: 588.0+ KB\n"
     ]
    }
   ],
   "source": [
    "df.info()"
   ]
  },
  {
   "cell_type": "markdown",
   "metadata": {},
   "source": [
    "## **Remove the columns we don't need**\n",
    "The Column **Equipment** is not useful for our analysis --> Remove it to simplify our work."
   ]
  },
  {
   "cell_type": "code",
   "execution_count": 11,
   "metadata": {},
   "outputs": [
    {
     "data": {
      "text/html": [
       "<div>\n",
       "<style scoped>\n",
       "    .dataframe tbody tr th:only-of-type {\n",
       "        vertical-align: middle;\n",
       "    }\n",
       "\n",
       "    .dataframe tbody tr th {\n",
       "        vertical-align: top;\n",
       "    }\n",
       "\n",
       "    .dataframe thead th {\n",
       "        text-align: right;\n",
       "    }\n",
       "</style>\n",
       "<table border=\"1\" class=\"dataframe\">\n",
       "  <thead>\n",
       "    <tr style=\"text-align: right;\">\n",
       "      <th></th>\n",
       "      <th>Date</th>\n",
       "      <th>Equipment</th>\n",
       "      <th>Type</th>\n",
       "      <th>Value</th>\n",
       "      <th>Unit</th>\n",
       "    </tr>\n",
       "  </thead>\n",
       "  <tbody>\n",
       "    <tr>\n",
       "      <th>0</th>\n",
       "      <td>2021-01-01 00:00:00</td>\n",
       "      <td>5MultiSensor 6 (ZW100)</td>\n",
       "      <td>HUMIDITY</td>\n",
       "      <td>38.0</td>\n",
       "      <td>%</td>\n",
       "    </tr>\n",
       "    <tr>\n",
       "      <th>1</th>\n",
       "      <td>2021-01-01 01:00:00</td>\n",
       "      <td>5MultiSensor 6 (ZW100)</td>\n",
       "      <td>HUMIDITY</td>\n",
       "      <td>36.5</td>\n",
       "      <td>%</td>\n",
       "    </tr>\n",
       "    <tr>\n",
       "      <th>2</th>\n",
       "      <td>2021-01-01 02:00:00</td>\n",
       "      <td>5MultiSensor 6 (ZW100)</td>\n",
       "      <td>HUMIDITY</td>\n",
       "      <td>35.5</td>\n",
       "      <td>%</td>\n",
       "    </tr>\n",
       "    <tr>\n",
       "      <th>3</th>\n",
       "      <td>2021-01-01 03:00:00</td>\n",
       "      <td>5MultiSensor 6 (ZW100)</td>\n",
       "      <td>HUMIDITY</td>\n",
       "      <td>35.0</td>\n",
       "      <td>%</td>\n",
       "    </tr>\n",
       "    <tr>\n",
       "      <th>4</th>\n",
       "      <td>2021-01-01 03:15:00</td>\n",
       "      <td>5MultiSensor 6 (ZW100)</td>\n",
       "      <td>HUMIDITY</td>\n",
       "      <td>35.0</td>\n",
       "      <td>%</td>\n",
       "    </tr>\n",
       "  </tbody>\n",
       "</table>\n",
       "</div>"
      ],
      "text/plain": [
       "                  Date               Equipment      Type  Value Unit\n",
       "0  2021-01-01 00:00:00  5MultiSensor 6 (ZW100)  HUMIDITY   38.0    %\n",
       "1  2021-01-01 01:00:00  5MultiSensor 6 (ZW100)  HUMIDITY   36.5    %\n",
       "2  2021-01-01 02:00:00  5MultiSensor 6 (ZW100)  HUMIDITY   35.5    %\n",
       "3  2021-01-01 03:00:00  5MultiSensor 6 (ZW100)  HUMIDITY   35.0    %\n",
       "4  2021-01-01 03:15:00  5MultiSensor 6 (ZW100)  HUMIDITY   35.0    %"
      ]
     },
     "execution_count": 11,
     "metadata": {},
     "output_type": "execute_result"
    }
   ],
   "source": [
    "df.head()"
   ]
  },
  {
   "cell_type": "code",
   "execution_count": 12,
   "metadata": {},
   "outputs": [
    {
     "data": {
      "text/plain": [
       "5MultiSensor 6 (ZW100)    15050\n",
       "Name: Equipment, dtype: int64"
      ]
     },
     "execution_count": 12,
     "metadata": {},
     "output_type": "execute_result"
    }
   ],
   "source": [
    "df['Equipment'].value_counts(dropna = False)"
   ]
  },
  {
   "cell_type": "code",
   "execution_count": 13,
   "metadata": {},
   "outputs": [],
   "source": [
    "df = df.drop([\"Equipment\"], axis = 'columns')"
   ]
  },
  {
   "cell_type": "code",
   "execution_count": 14,
   "metadata": {},
   "outputs": [
    {
     "data": {
      "text/html": [
       "<div>\n",
       "<style scoped>\n",
       "    .dataframe tbody tr th:only-of-type {\n",
       "        vertical-align: middle;\n",
       "    }\n",
       "\n",
       "    .dataframe tbody tr th {\n",
       "        vertical-align: top;\n",
       "    }\n",
       "\n",
       "    .dataframe thead th {\n",
       "        text-align: right;\n",
       "    }\n",
       "</style>\n",
       "<table border=\"1\" class=\"dataframe\">\n",
       "  <thead>\n",
       "    <tr style=\"text-align: right;\">\n",
       "      <th></th>\n",
       "      <th>Date</th>\n",
       "      <th>Type</th>\n",
       "      <th>Value</th>\n",
       "      <th>Unit</th>\n",
       "    </tr>\n",
       "  </thead>\n",
       "  <tbody>\n",
       "    <tr>\n",
       "      <th>0</th>\n",
       "      <td>2021-01-01 00:00:00</td>\n",
       "      <td>HUMIDITY</td>\n",
       "      <td>38.0</td>\n",
       "      <td>%</td>\n",
       "    </tr>\n",
       "    <tr>\n",
       "      <th>1</th>\n",
       "      <td>2021-01-01 01:00:00</td>\n",
       "      <td>HUMIDITY</td>\n",
       "      <td>36.5</td>\n",
       "      <td>%</td>\n",
       "    </tr>\n",
       "    <tr>\n",
       "      <th>2</th>\n",
       "      <td>2021-01-01 02:00:00</td>\n",
       "      <td>HUMIDITY</td>\n",
       "      <td>35.5</td>\n",
       "      <td>%</td>\n",
       "    </tr>\n",
       "    <tr>\n",
       "      <th>3</th>\n",
       "      <td>2021-01-01 03:00:00</td>\n",
       "      <td>HUMIDITY</td>\n",
       "      <td>35.0</td>\n",
       "      <td>%</td>\n",
       "    </tr>\n",
       "    <tr>\n",
       "      <th>4</th>\n",
       "      <td>2021-01-01 03:15:00</td>\n",
       "      <td>HUMIDITY</td>\n",
       "      <td>35.0</td>\n",
       "      <td>%</td>\n",
       "    </tr>\n",
       "  </tbody>\n",
       "</table>\n",
       "</div>"
      ],
      "text/plain": [
       "                  Date      Type  Value Unit\n",
       "0  2021-01-01 00:00:00  HUMIDITY   38.0    %\n",
       "1  2021-01-01 01:00:00  HUMIDITY   36.5    %\n",
       "2  2021-01-01 02:00:00  HUMIDITY   35.5    %\n",
       "3  2021-01-01 03:00:00  HUMIDITY   35.0    %\n",
       "4  2021-01-01 03:15:00  HUMIDITY   35.0    %"
      ]
     },
     "execution_count": 14,
     "metadata": {},
     "output_type": "execute_result"
    }
   ],
   "source": [
    "df.head()"
   ]
  },
  {
   "cell_type": "markdown",
   "metadata": {},
   "source": [
    "## **Rename column heads**"
   ]
  },
  {
   "cell_type": "code",
   "execution_count": 15,
   "metadata": {},
   "outputs": [],
   "source": [
    "df = df.rename(columns={\"Type\": \"Parameter\"})"
   ]
  },
  {
   "cell_type": "code",
   "execution_count": 16,
   "metadata": {},
   "outputs": [
    {
     "data": {
      "text/html": [
       "<div>\n",
       "<style scoped>\n",
       "    .dataframe tbody tr th:only-of-type {\n",
       "        vertical-align: middle;\n",
       "    }\n",
       "\n",
       "    .dataframe tbody tr th {\n",
       "        vertical-align: top;\n",
       "    }\n",
       "\n",
       "    .dataframe thead th {\n",
       "        text-align: right;\n",
       "    }\n",
       "</style>\n",
       "<table border=\"1\" class=\"dataframe\">\n",
       "  <thead>\n",
       "    <tr style=\"text-align: right;\">\n",
       "      <th></th>\n",
       "      <th>Date</th>\n",
       "      <th>Parameter</th>\n",
       "      <th>Value</th>\n",
       "      <th>Unit</th>\n",
       "    </tr>\n",
       "  </thead>\n",
       "  <tbody>\n",
       "    <tr>\n",
       "      <th>0</th>\n",
       "      <td>2021-01-01 00:00:00</td>\n",
       "      <td>HUMIDITY</td>\n",
       "      <td>38.0</td>\n",
       "      <td>%</td>\n",
       "    </tr>\n",
       "    <tr>\n",
       "      <th>1</th>\n",
       "      <td>2021-01-01 01:00:00</td>\n",
       "      <td>HUMIDITY</td>\n",
       "      <td>36.5</td>\n",
       "      <td>%</td>\n",
       "    </tr>\n",
       "    <tr>\n",
       "      <th>2</th>\n",
       "      <td>2021-01-01 02:00:00</td>\n",
       "      <td>HUMIDITY</td>\n",
       "      <td>35.5</td>\n",
       "      <td>%</td>\n",
       "    </tr>\n",
       "    <tr>\n",
       "      <th>3</th>\n",
       "      <td>2021-01-01 03:00:00</td>\n",
       "      <td>HUMIDITY</td>\n",
       "      <td>35.0</td>\n",
       "      <td>%</td>\n",
       "    </tr>\n",
       "    <tr>\n",
       "      <th>4</th>\n",
       "      <td>2021-01-01 03:15:00</td>\n",
       "      <td>HUMIDITY</td>\n",
       "      <td>35.0</td>\n",
       "      <td>%</td>\n",
       "    </tr>\n",
       "  </tbody>\n",
       "</table>\n",
       "</div>"
      ],
      "text/plain": [
       "                  Date Parameter  Value Unit\n",
       "0  2021-01-01 00:00:00  HUMIDITY   38.0    %\n",
       "1  2021-01-01 01:00:00  HUMIDITY   36.5    %\n",
       "2  2021-01-01 02:00:00  HUMIDITY   35.5    %\n",
       "3  2021-01-01 03:00:00  HUMIDITY   35.0    %\n",
       "4  2021-01-01 03:15:00  HUMIDITY   35.0    %"
      ]
     },
     "execution_count": 16,
     "metadata": {},
     "output_type": "execute_result"
    }
   ],
   "source": [
    "df.head()"
   ]
  },
  {
   "cell_type": "code",
   "execution_count": 17,
   "metadata": {},
   "outputs": [
    {
     "name": "stdout",
     "output_type": "stream",
     "text": [
      "<class 'pandas.core.frame.DataFrame'>\n",
      "RangeIndex: 15050 entries, 0 to 15049\n",
      "Data columns (total 4 columns):\n",
      " #   Column     Non-Null Count  Dtype  \n",
      "---  ------     --------------  -----  \n",
      " 0   Date       15050 non-null  object \n",
      " 1   Parameter  15050 non-null  object \n",
      " 2   Value      15050 non-null  float64\n",
      " 3   Unit       6582 non-null   object \n",
      "dtypes: float64(1), object(3)\n",
      "memory usage: 470.4+ KB\n"
     ]
    }
   ],
   "source": [
    "df.info()"
   ]
  },
  {
   "cell_type": "markdown",
   "metadata": {},
   "source": [
    "## **Convert the Date into a Datetime stamp**"
   ]
  },
  {
   "cell_type": "code",
   "execution_count": 18,
   "metadata": {},
   "outputs": [],
   "source": [
    "df[\"Date\"] = pd.to_datetime(df[\"Date\"], format= '%Y-%m-%d %H:%M:%S')"
   ]
  },
  {
   "cell_type": "code",
   "execution_count": 19,
   "metadata": {},
   "outputs": [
    {
     "name": "stdout",
     "output_type": "stream",
     "text": [
      "<class 'pandas.core.frame.DataFrame'>\n",
      "RangeIndex: 15050 entries, 0 to 15049\n",
      "Data columns (total 4 columns):\n",
      " #   Column     Non-Null Count  Dtype         \n",
      "---  ------     --------------  -----         \n",
      " 0   Date       15050 non-null  datetime64[ns]\n",
      " 1   Parameter  15050 non-null  object        \n",
      " 2   Value      15050 non-null  float64       \n",
      " 3   Unit       6582 non-null   object        \n",
      "dtypes: datetime64[ns](1), float64(1), object(2)\n",
      "memory usage: 470.4+ KB\n"
     ]
    }
   ],
   "source": [
    "df.info()"
   ]
  },
  {
   "cell_type": "markdown",
   "metadata": {},
   "source": [
    "## **Select rows where type is PRESENCE**"
   ]
  },
  {
   "cell_type": "code",
   "execution_count": 20,
   "metadata": {},
   "outputs": [],
   "source": [
    "presence = df.loc[df[\"Parameter\"] == \"PRESENCE\"]"
   ]
  },
  {
   "cell_type": "code",
   "execution_count": 21,
   "metadata": {},
   "outputs": [
    {
     "data": {
      "text/html": [
       "<div>\n",
       "<style scoped>\n",
       "    .dataframe tbody tr th:only-of-type {\n",
       "        vertical-align: middle;\n",
       "    }\n",
       "\n",
       "    .dataframe tbody tr th {\n",
       "        vertical-align: top;\n",
       "    }\n",
       "\n",
       "    .dataframe thead th {\n",
       "        text-align: right;\n",
       "    }\n",
       "</style>\n",
       "<table border=\"1\" class=\"dataframe\">\n",
       "  <thead>\n",
       "    <tr style=\"text-align: right;\">\n",
       "      <th></th>\n",
       "      <th>Date</th>\n",
       "      <th>Parameter</th>\n",
       "      <th>Value</th>\n",
       "      <th>Unit</th>\n",
       "    </tr>\n",
       "  </thead>\n",
       "  <tbody>\n",
       "    <tr>\n",
       "      <th>4388</th>\n",
       "      <td>2021-01-01 05:47:02</td>\n",
       "      <td>PRESENCE</td>\n",
       "      <td>1.0</td>\n",
       "      <td>NaN</td>\n",
       "    </tr>\n",
       "    <tr>\n",
       "      <th>4389</th>\n",
       "      <td>2021-01-01 05:58:08</td>\n",
       "      <td>PRESENCE</td>\n",
       "      <td>0.0</td>\n",
       "      <td>NaN</td>\n",
       "    </tr>\n",
       "    <tr>\n",
       "      <th>4390</th>\n",
       "      <td>2021-01-01 06:01:02</td>\n",
       "      <td>PRESENCE</td>\n",
       "      <td>1.0</td>\n",
       "      <td>NaN</td>\n",
       "    </tr>\n",
       "    <tr>\n",
       "      <th>4391</th>\n",
       "      <td>2021-01-01 06:05:32</td>\n",
       "      <td>PRESENCE</td>\n",
       "      <td>0.0</td>\n",
       "      <td>NaN</td>\n",
       "    </tr>\n",
       "    <tr>\n",
       "      <th>4392</th>\n",
       "      <td>2021-01-01 07:45:49</td>\n",
       "      <td>PRESENCE</td>\n",
       "      <td>1.0</td>\n",
       "      <td>NaN</td>\n",
       "    </tr>\n",
       "    <tr>\n",
       "      <th>...</th>\n",
       "      <td>...</td>\n",
       "      <td>...</td>\n",
       "      <td>...</td>\n",
       "      <td>...</td>\n",
       "    </tr>\n",
       "    <tr>\n",
       "      <th>10521</th>\n",
       "      <td>2021-03-31 18:52:24</td>\n",
       "      <td>PRESENCE</td>\n",
       "      <td>0.0</td>\n",
       "      <td>NaN</td>\n",
       "    </tr>\n",
       "    <tr>\n",
       "      <th>10522</th>\n",
       "      <td>2021-03-31 19:55:17</td>\n",
       "      <td>PRESENCE</td>\n",
       "      <td>1.0</td>\n",
       "      <td>NaN</td>\n",
       "    </tr>\n",
       "    <tr>\n",
       "      <th>10523</th>\n",
       "      <td>2021-03-31 20:24:05</td>\n",
       "      <td>PRESENCE</td>\n",
       "      <td>0.0</td>\n",
       "      <td>NaN</td>\n",
       "    </tr>\n",
       "    <tr>\n",
       "      <th>10524</th>\n",
       "      <td>2021-03-31 20:26:29</td>\n",
       "      <td>PRESENCE</td>\n",
       "      <td>1.0</td>\n",
       "      <td>NaN</td>\n",
       "    </tr>\n",
       "    <tr>\n",
       "      <th>10525</th>\n",
       "      <td>2021-03-31 20:42:21</td>\n",
       "      <td>PRESENCE</td>\n",
       "      <td>0.0</td>\n",
       "      <td>NaN</td>\n",
       "    </tr>\n",
       "  </tbody>\n",
       "</table>\n",
       "<p>6138 rows × 4 columns</p>\n",
       "</div>"
      ],
      "text/plain": [
       "                     Date Parameter  Value Unit\n",
       "4388  2021-01-01 05:47:02  PRESENCE    1.0  NaN\n",
       "4389  2021-01-01 05:58:08  PRESENCE    0.0  NaN\n",
       "4390  2021-01-01 06:01:02  PRESENCE    1.0  NaN\n",
       "4391  2021-01-01 06:05:32  PRESENCE    0.0  NaN\n",
       "4392  2021-01-01 07:45:49  PRESENCE    1.0  NaN\n",
       "...                   ...       ...    ...  ...\n",
       "10521 2021-03-31 18:52:24  PRESENCE    0.0  NaN\n",
       "10522 2021-03-31 19:55:17  PRESENCE    1.0  NaN\n",
       "10523 2021-03-31 20:24:05  PRESENCE    0.0  NaN\n",
       "10524 2021-03-31 20:26:29  PRESENCE    1.0  NaN\n",
       "10525 2021-03-31 20:42:21  PRESENCE    0.0  NaN\n",
       "\n",
       "[6138 rows x 4 columns]"
      ]
     },
     "execution_count": 21,
     "metadata": {},
     "output_type": "execute_result"
    }
   ],
   "source": [
    "presence"
   ]
  },
  {
   "cell_type": "code",
   "execution_count": 22,
   "metadata": {},
   "outputs": [
    {
     "name": "stdout",
     "output_type": "stream",
     "text": [
      "<class 'pandas.core.frame.DataFrame'>\n",
      "Int64Index: 6138 entries, 4388 to 10525\n",
      "Data columns (total 4 columns):\n",
      " #   Column     Non-Null Count  Dtype         \n",
      "---  ------     --------------  -----         \n",
      " 0   Date       6138 non-null   datetime64[ns]\n",
      " 1   Parameter  6138 non-null   object        \n",
      " 2   Value      6138 non-null   float64       \n",
      " 3   Unit       0 non-null      object        \n",
      "dtypes: datetime64[ns](1), float64(1), object(2)\n",
      "memory usage: 239.8+ KB\n"
     ]
    }
   ],
   "source": [
    "presence.info()"
   ]
  },
  {
   "cell_type": "markdown",
   "metadata": {},
   "source": [
    "## **Select rows where PRESENCE == 1 for the 1st time of the day**"
   ]
  },
  {
   "cell_type": "code",
   "execution_count": 23,
   "metadata": {},
   "outputs": [
    {
     "data": {
      "text/html": [
       "<div>\n",
       "<style scoped>\n",
       "    .dataframe tbody tr th:only-of-type {\n",
       "        vertical-align: middle;\n",
       "    }\n",
       "\n",
       "    .dataframe tbody tr th {\n",
       "        vertical-align: top;\n",
       "    }\n",
       "\n",
       "    .dataframe thead th {\n",
       "        text-align: right;\n",
       "    }\n",
       "</style>\n",
       "<table border=\"1\" class=\"dataframe\">\n",
       "  <thead>\n",
       "    <tr style=\"text-align: right;\">\n",
       "      <th></th>\n",
       "      <th>Date</th>\n",
       "      <th>Parameter</th>\n",
       "      <th>Unit</th>\n",
       "      <th>Value</th>\n",
       "    </tr>\n",
       "  </thead>\n",
       "  <tbody>\n",
       "    <tr>\n",
       "      <th>4388</th>\n",
       "      <td>2021-01-01 05:47:02</td>\n",
       "      <td>PRESENCE</td>\n",
       "      <td>NaN</td>\n",
       "      <td>1.0</td>\n",
       "    </tr>\n",
       "    <tr>\n",
       "      <th>4452</th>\n",
       "      <td>2021-01-02 05:12:54</td>\n",
       "      <td>PRESENCE</td>\n",
       "      <td>NaN</td>\n",
       "      <td>1.0</td>\n",
       "    </tr>\n",
       "    <tr>\n",
       "      <th>4526</th>\n",
       "      <td>2021-01-03 05:38:04</td>\n",
       "      <td>PRESENCE</td>\n",
       "      <td>NaN</td>\n",
       "      <td>1.0</td>\n",
       "    </tr>\n",
       "    <tr>\n",
       "      <th>4620</th>\n",
       "      <td>2021-01-04 05:19:17</td>\n",
       "      <td>PRESENCE</td>\n",
       "      <td>NaN</td>\n",
       "      <td>1.0</td>\n",
       "    </tr>\n",
       "    <tr>\n",
       "      <th>4696</th>\n",
       "      <td>2021-01-05 05:04:26</td>\n",
       "      <td>PRESENCE</td>\n",
       "      <td>NaN</td>\n",
       "      <td>1.0</td>\n",
       "    </tr>\n",
       "    <tr>\n",
       "      <th>...</th>\n",
       "      <td>...</td>\n",
       "      <td>...</td>\n",
       "      <td>...</td>\n",
       "      <td>...</td>\n",
       "    </tr>\n",
       "    <tr>\n",
       "      <th>10156</th>\n",
       "      <td>2021-03-27 06:19:19</td>\n",
       "      <td>PRESENCE</td>\n",
       "      <td>NaN</td>\n",
       "      <td>1.0</td>\n",
       "    </tr>\n",
       "    <tr>\n",
       "      <th>10228</th>\n",
       "      <td>2021-03-28 09:00:51</td>\n",
       "      <td>PRESENCE</td>\n",
       "      <td>NaN</td>\n",
       "      <td>1.0</td>\n",
       "    </tr>\n",
       "    <tr>\n",
       "      <th>10306</th>\n",
       "      <td>2021-03-29 05:35:49</td>\n",
       "      <td>PRESENCE</td>\n",
       "      <td>NaN</td>\n",
       "      <td>1.0</td>\n",
       "    </tr>\n",
       "    <tr>\n",
       "      <th>10406</th>\n",
       "      <td>2021-03-30 04:02:20</td>\n",
       "      <td>PRESENCE</td>\n",
       "      <td>NaN</td>\n",
       "      <td>1.0</td>\n",
       "    </tr>\n",
       "    <tr>\n",
       "      <th>10466</th>\n",
       "      <td>2021-03-31 09:28:52</td>\n",
       "      <td>PRESENCE</td>\n",
       "      <td>NaN</td>\n",
       "      <td>1.0</td>\n",
       "    </tr>\n",
       "  </tbody>\n",
       "</table>\n",
       "<p>90 rows × 4 columns</p>\n",
       "</div>"
      ],
      "text/plain": [
       "                     Date Parameter  Unit  Value\n",
       "4388  2021-01-01 05:47:02  PRESENCE   NaN    1.0\n",
       "4452  2021-01-02 05:12:54  PRESENCE   NaN    1.0\n",
       "4526  2021-01-03 05:38:04  PRESENCE   NaN    1.0\n",
       "4620  2021-01-04 05:19:17  PRESENCE   NaN    1.0\n",
       "4696  2021-01-05 05:04:26  PRESENCE   NaN    1.0\n",
       "...                   ...       ...   ...    ...\n",
       "10156 2021-03-27 06:19:19  PRESENCE   NaN    1.0\n",
       "10228 2021-03-28 09:00:51  PRESENCE   NaN    1.0\n",
       "10306 2021-03-29 05:35:49  PRESENCE   NaN    1.0\n",
       "10406 2021-03-30 04:02:20  PRESENCE   NaN    1.0\n",
       "10466 2021-03-31 09:28:52  PRESENCE   NaN    1.0\n",
       "\n",
       "[90 rows x 4 columns]"
      ]
     },
     "execution_count": 23,
     "metadata": {},
     "output_type": "execute_result"
    }
   ],
   "source": [
    "#Extract the date from the top row of the dataframe \"presence\"\n",
    "#normalize() changes the time to midnight\n",
    "start_date = presence['Date'][presence.index.min()].normalize()\n",
    "\n",
    "#Extract the date from the bottom row of the dataframe \"presence\"\n",
    "last_date = presence['Date'][presence.index.max()]\n",
    "\n",
    "#Create an empty DataFrame called first_time\n",
    "first_time = pd.DataFrame()\n",
    "\n",
    "while start_date < last_date:\n",
    "    #select_start is a selection of the DataFrame \"presence\"\n",
    "    select_start = presence[(presence['Date'] >= start_date)]\n",
    "    #Select the 1st row from the DataFrame \"select_start\"\n",
    "    top_row = select_start.iloc[0,]\n",
    "    #If we are at home:\n",
    "    if top_row['Date'].normalize() == start_date:\n",
    "        #Add top_row to the DataFrame \"first_time\"\n",
    "        first_time = first_time.append(top_row)\n",
    "        #Moves the start_date forward 1 day\n",
    "        start_date = start_date + pd.Timedelta(days = 1)\n",
    "    #If we are not at home:\n",
    "    else:\n",
    "        days_away = top_row['Date'].normalize() - start_date + pd.Timedelta(days = 1)\n",
    "        start_date = start_date + pd.Timedelta(days = days_away/ pd.Timedelta(days = 1))\n",
    "first_time"
   ]
  },
  {
   "cell_type": "code",
   "execution_count": 24,
   "metadata": {},
   "outputs": [
    {
     "name": "stdout",
     "output_type": "stream",
     "text": [
      "<class 'pandas.core.frame.DataFrame'>\n",
      "Int64Index: 90 entries, 4388 to 10466\n",
      "Data columns (total 4 columns):\n",
      " #   Column     Non-Null Count  Dtype         \n",
      "---  ------     --------------  -----         \n",
      " 0   Date       90 non-null     datetime64[ns]\n",
      " 1   Parameter  90 non-null     object        \n",
      " 2   Unit       0 non-null      float64       \n",
      " 3   Value      90 non-null     float64       \n",
      "dtypes: datetime64[ns](1), float64(2), object(1)\n",
      "memory usage: 3.5+ KB\n"
     ]
    }
   ],
   "source": [
    "first_time.info()"
   ]
  },
  {
   "cell_type": "markdown",
   "metadata": {},
   "source": [
    "## **Calculate the mean and standard deviation for the time**"
   ]
  },
  {
   "cell_type": "markdown",
   "metadata": {},
   "source": [
    "Create a new column with time only:\n",
    "1. Create a Series with the wanted values (time_only)\n",
    "2. Add this Series to first_time"
   ]
  },
  {
   "cell_type": "code",
   "execution_count": 25,
   "metadata": {},
   "outputs": [
    {
     "data": {
      "text/plain": [
       "4388    0 days 05:47:02\n",
       "4452    0 days 05:12:54\n",
       "4526    0 days 05:38:04\n",
       "4620    0 days 05:19:17\n",
       "4696    0 days 05:04:26\n",
       "              ...      \n",
       "10156   0 days 06:19:19\n",
       "10228   0 days 09:00:51\n",
       "10306   0 days 05:35:49\n",
       "10406   0 days 04:02:20\n",
       "10466   0 days 09:28:52\n",
       "Length: 90, dtype: timedelta64[ns]"
      ]
     },
     "execution_count": 25,
     "metadata": {},
     "output_type": "execute_result"
    }
   ],
   "source": [
    "time_only = pd.Series([(x-x.normalize()) for x in first_time['Date']], index = first_time.index)\n",
    "time_only"
   ]
  },
  {
   "cell_type": "code",
   "execution_count": 26,
   "metadata": {},
   "outputs": [],
   "source": [
    "first_time['Time'] = time_only"
   ]
  },
  {
   "cell_type": "code",
   "execution_count": 27,
   "metadata": {},
   "outputs": [
    {
     "name": "stdout",
     "output_type": "stream",
     "text": [
      "<class 'pandas.core.frame.DataFrame'>\n",
      "Int64Index: 90 entries, 4388 to 10466\n",
      "Data columns (total 5 columns):\n",
      " #   Column     Non-Null Count  Dtype          \n",
      "---  ------     --------------  -----          \n",
      " 0   Date       90 non-null     datetime64[ns] \n",
      " 1   Parameter  90 non-null     object         \n",
      " 2   Unit       0 non-null      float64        \n",
      " 3   Value      90 non-null     float64        \n",
      " 4   Time       90 non-null     timedelta64[ns]\n",
      "dtypes: datetime64[ns](1), float64(2), object(1), timedelta64[ns](1)\n",
      "memory usage: 4.2+ KB\n"
     ]
    }
   ],
   "source": [
    "first_time.info()"
   ]
  },
  {
   "cell_type": "code",
   "execution_count": 28,
   "metadata": {},
   "outputs": [
    {
     "data": {
      "text/plain": [
       "Timedelta('0 days 05:16:12.755555555')"
      ]
     },
     "execution_count": 28,
     "metadata": {},
     "output_type": "execute_result"
    }
   ],
   "source": [
    "first_time_mean = first_time['Time'].mean()\n",
    "first_time_mean"
   ]
  },
  {
   "cell_type": "code",
   "execution_count": 29,
   "metadata": {},
   "outputs": [
    {
     "data": {
      "text/plain": [
       "Timedelta('0 days 01:28:59.013996650')"
      ]
     },
     "execution_count": 29,
     "metadata": {},
     "output_type": "execute_result"
    }
   ],
   "source": [
    "first_time_std = first_time['Time'].std()\n",
    "first_time_std"
   ]
  },
  {
   "cell_type": "code",
   "execution_count": 72,
   "metadata": {},
   "outputs": [
    {
     "data": {
      "text/plain": [
       "Timedelta('0 days 00:00:01')"
      ]
     },
     "execution_count": 72,
     "metadata": {},
     "output_type": "execute_result"
    }
   ],
   "source": [
    "pd.Timedelta(hours = 1/3600)"
   ]
  },
  {
   "cell_type": "markdown",
   "metadata": {},
   "source": [
    "## **Plot first time over days**"
   ]
  },
  {
   "cell_type": "code",
   "execution_count": 35,
   "metadata": {},
   "outputs": [],
   "source": [
    "#Problem with:\n",
    "#first_time.plot(x = \"Date\", y = \"Time\", legend = False, figsize = (10,7))\n",
    "#Y-axis does not show time"
   ]
  },
  {
   "cell_type": "markdown",
   "metadata": {},
   "source": [
    "Convert `first_time_mean` and `first_time_std` into seconds.\n",
    "\n",
    "Note: `pd.Timedelta(hours = 1/3600)` is `Timedelta('0 days 00:00:01')`"
   ]
  },
  {
   "cell_type": "code",
   "execution_count": 44,
   "metadata": {},
   "outputs": [],
   "source": [
    "first_time_mean_sec = first_time_mean/pd.Timedelta(hours = 1/3600)\n",
    "first_time_std_sec = first_time_std/pd.Timedelta(hours = 1/3600)"
   ]
  },
  {
   "cell_type": "markdown",
   "metadata": {},
   "source": [
    "Convert `first_time_mean_sec` and `first_time_std_sec` into a float"
   ]
  },
  {
   "cell_type": "code",
   "execution_count": 48,
   "metadata": {},
   "outputs": [],
   "source": [
    "first_time_mean_float = first_time_mean_sec/3600\n",
    "first_time_std_float = first_time_std_sec/3600"
   ]
  },
  {
   "cell_type": "markdown",
   "metadata": {},
   "source": [
    "Convert elements in `first_time['Time']` into a float that we can plot"
   ]
  },
  {
   "cell_type": "code",
   "execution_count": 49,
   "metadata": {},
   "outputs": [],
   "source": [
    "first_time['Time_float'] = (first_time['Time']/pd.Timedelta(hours = 1/3600))/3600"
   ]
  },
  {
   "cell_type": "code",
   "execution_count": 50,
   "metadata": {},
   "outputs": [
    {
     "name": "stdout",
     "output_type": "stream",
     "text": [
      "<class 'pandas.core.frame.DataFrame'>\n",
      "Int64Index: 90 entries, 4388 to 10466\n",
      "Data columns (total 7 columns):\n",
      " #   Column      Non-Null Count  Dtype          \n",
      "---  ------      --------------  -----          \n",
      " 0   Date        90 non-null     datetime64[ns] \n",
      " 1   Parameter   90 non-null     object         \n",
      " 2   Unit        0 non-null      float64        \n",
      " 3   Value       90 non-null     float64        \n",
      " 4   Time        90 non-null     timedelta64[ns]\n",
      " 5   Time_int    90 non-null     float64        \n",
      " 6   Time_float  90 non-null     float64        \n",
      "dtypes: datetime64[ns](1), float64(4), object(1), timedelta64[ns](1)\n",
      "memory usage: 5.6+ KB\n"
     ]
    }
   ],
   "source": [
    "first_time.info()"
   ]
  },
  {
   "cell_type": "markdown",
   "metadata": {},
   "source": [
    "Get mean +/- 1 standard deviation for plotting"
   ]
  },
  {
   "cell_type": "code",
   "execution_count": 55,
   "metadata": {},
   "outputs": [],
   "source": [
    "first_time_mean_plus = first_time_mean_float + first_time_std_float\n",
    "first_time_mean_minus = first_time_mean_float - first_time_std_float"
   ]
  },
  {
   "cell_type": "code",
   "execution_count": 56,
   "metadata": {},
   "outputs": [
    {
     "data": {
      "text/plain": [
       "Text(0.5, 0, 'Day')"
      ]
     },
     "execution_count": 56,
     "metadata": {},
     "output_type": "execute_result"
    },
    {
     "data": {
      "image/png": "[encoded data removed]",
      "text/plain": [
       "<Figure size 720x504 with 1 Axes>"
      ]
     },
     "metadata": {
      "needs_background": "light"
     },
     "output_type": "display_data"
    }
   ],
   "source": [
    "a = first_time.plot(x = \"Date\", y = \"Time_float\", legend = False, figsize = (10,7))\n",
    "a.axhline(first_time_mean_float, color = \"red\")\n",
    "a.axhline(first_time_mean_plus, color = 'green')\n",
    "a.axhline(first_time_mean_minus, color = 'green')\n",
    "a.set_ylabel(\"Time (h)\")\n",
    "a.set_xlabel('Day')"
   ]
  },
  {
   "cell_type": "markdown",
   "metadata": {},
   "source": [
    "# **Time spent in kitchen per day**"
   ]
  },
  {
   "cell_type": "markdown",
   "metadata": {},
   "source": [
    "Below is the code used to figure out how much time we spent in the kitchen everyday:\n",
    "- Items in the list `timestamps_24h` are the Timestamps recorded for 1 day.\n",
    "- Items in the list `timedeltas_24h` are the length of time spent in the kitchen for 1 day.\n",
    "- Each item in the list `time_spent` represents the length of time spent in the kitchen for 1 day.\n",
    "\n",
    "**Note**: presence values fluctuate between 1 and 0, 1 being presence (or movement) detected and 0 being no movement. The duration is evaluated by substracting the row where value = 0 by the row above it. ***The code below makes assumptions***, such as value = 1 the first time presence is recorded in a day and value = 0 the last time presence is recorded for the day or that movement is detected every day."
   ]
  },
  {
   "cell_type": "code",
   "execution_count": 185,
   "metadata": {},
   "outputs": [],
   "source": [
    "start_date = presence['Date'][presence.index.min()].date()\n",
    "last_row = presence['Date'][presence.index.max()]\n",
    "timestamps_24h = []\n",
    "duration = pd.Timedelta(days = 0)\n",
    "time_spent = []\n",
    "for x in presence['Date']:\n",
    "    if x.date() == start_date:\n",
    "        timestamps_24h.append(x)\n",
    "        if x == last_row:\n",
    "            timedeltas_24h = []\n",
    "            n = 0\n",
    "            while n < len(timestamps_24h):\n",
    "                timedeltas_24h.append(timestamps_24h[n+1] - timestamps_24h[n])\n",
    "                n += 2\n",
    "            for i in timedeltas_24h:\n",
    "                duration += i\n",
    "            time_spent.append(duration)\n",
    "    else:\n",
    "        timedeltas_24h = []\n",
    "        n = 0\n",
    "        while n < len(timestamps_24h):\n",
    "            timedeltas_24h.append(timestamps_24h[n+1] - timestamps_24h[n])\n",
    "            n += 2\n",
    "        for i in timedeltas_24h:\n",
    "            duration += i\n",
    "        time_spent.append(duration)\n",
    "        duration = pd.Timedelta(days = 0)\n",
    "        start_date += pd.Timedelta(days = 1)\n",
    "        timestamps_24h = []\n",
    "        timestamps_24h.append(x)"
   ]
  },
  {
   "cell_type": "markdown",
   "metadata": {},
   "source": [
    "Generate a list of the dates from the dataframe `presence`"
   ]
  },
  {
   "cell_type": "code",
   "execution_count": 186,
   "metadata": {},
   "outputs": [],
   "source": [
    "start_date = presence['Date'][presence.index.min()].date()\n",
    "date_list = []\n",
    "for x in presence['Date']:\n",
    "    if x.date() == start_date:\n",
    "        date_list.append(x.date())\n",
    "        start_date += pd.Timedelta(days = 1)"
   ]
  },
  {
   "cell_type": "markdown",
   "metadata": {},
   "source": [
    "Create a dataframe with the dates and the amount of time spent in the kitchen"
   ]
  },
  {
   "cell_type": "code",
   "execution_count": 169,
   "metadata": {},
   "outputs": [],
   "source": [
    "time_kitchen = pd.DataFrame({'Date': date_list, 'Time spent': time_spent})"
   ]
  },
  {
   "cell_type": "code",
   "execution_count": 171,
   "metadata": {},
   "outputs": [
    {
     "name": "stdout",
     "output_type": "stream",
     "text": [
      "<class 'pandas.core.frame.DataFrame'>\n",
      "RangeIndex: 90 entries, 0 to 89\n",
      "Data columns (total 2 columns):\n",
      " #   Column      Non-Null Count  Dtype          \n",
      "---  ------      --------------  -----          \n",
      " 0   Date        90 non-null     object         \n",
      " 1   Time spent  90 non-null     timedelta64[ns]\n",
      "dtypes: object(1), timedelta64[ns](1)\n",
      "memory usage: 1.5+ KB\n"
     ]
    }
   ],
   "source": [
    "time_kitchen.info()"
   ]
  },
  {
   "cell_type": "markdown",
   "metadata": {},
   "source": [
    "## **Calculate the mean and standard deviation for the time spent in the kitchen**"
   ]
  },
  {
   "cell_type": "code",
   "execution_count": 175,
   "metadata": {},
   "outputs": [
    {
     "data": {
      "text/plain": [
       "Timedelta('0 days 04:18:30.288888888')"
      ]
     },
     "execution_count": 175,
     "metadata": {},
     "output_type": "execute_result"
    }
   ],
   "source": [
    "time_kitchen_mean = time_kitchen['Time spent'].mean()\n",
    "time_kitchen_mean"
   ]
  },
  {
   "cell_type": "code",
   "execution_count": 176,
   "metadata": {},
   "outputs": [
    {
     "data": {
      "text/plain": [
       "Timedelta('0 days 00:49:18.414201859')"
      ]
     },
     "execution_count": 176,
     "metadata": {},
     "output_type": "execute_result"
    }
   ],
   "source": [
    "time_kitchen_std = time_kitchen['Time spent'].std()\n",
    "time_kitchen_std"
   ]
  },
  {
   "cell_type": "markdown",
   "metadata": {},
   "source": [
    "## **Plot time spent in the kitchen over days**"
   ]
  },
  {
   "cell_type": "code",
   "execution_count": 35,
   "metadata": {},
   "outputs": [],
   "source": [
    "#Problem with:\n",
    "#time_kitchen.plot(x = \"Date\", y = \"Time spent\", legend = False, figsize = (10,7))\n",
    "#Y-axis does not show time"
   ]
  },
  {
   "cell_type": "markdown",
   "metadata": {},
   "source": [
    "Convert `time_kitchen_mean` and `time_kitchen_std` into seconds.\n",
    "\n",
    "Note: `pd.Timedelta(hours = 1/3600)` is `Timedelta('0 days 00:00:01')`"
   ]
  },
  {
   "cell_type": "code",
   "execution_count": 178,
   "metadata": {},
   "outputs": [],
   "source": [
    "time_kitchen_mean_sec = time_kitchen_mean/pd.Timedelta(hours = 1/3600)\n",
    "time_kitchen_std_sec = time_kitchen_std/pd.Timedelta(hours = 1/3600)"
   ]
  },
  {
   "cell_type": "markdown",
   "metadata": {},
   "source": [
    "Convert `time_kitchen_mean_sec` and `time_kitchen_std_sec` into a float"
   ]
  },
  {
   "cell_type": "code",
   "execution_count": 179,
   "metadata": {},
   "outputs": [],
   "source": [
    "time_kitchen_mean_float = time_kitchen_mean_sec/3600\n",
    "time_kitchen_std_float = time_kitchen_std_sec/3600"
   ]
  },
  {
   "cell_type": "markdown",
   "metadata": {},
   "source": [
    "Convert elements in `first_time['Time']` into a float that we can plot"
   ]
  },
  {
   "cell_type": "code",
   "execution_count": 180,
   "metadata": {},
   "outputs": [],
   "source": [
    "time_kitchen['Time spent_float'] = (time_kitchen['Time spent']/pd.Timedelta(hours = 1/3600))/3600"
   ]
  },
  {
   "cell_type": "code",
   "execution_count": 182,
   "metadata": {},
   "outputs": [
    {
     "name": "stdout",
     "output_type": "stream",
     "text": [
      "<class 'pandas.core.frame.DataFrame'>\n",
      "RangeIndex: 90 entries, 0 to 89\n",
      "Data columns (total 3 columns):\n",
      " #   Column            Non-Null Count  Dtype          \n",
      "---  ------            --------------  -----          \n",
      " 0   Date              90 non-null     object         \n",
      " 1   Time spent        90 non-null     timedelta64[ns]\n",
      " 2   Time spent_float  90 non-null     float64        \n",
      "dtypes: float64(1), object(1), timedelta64[ns](1)\n",
      "memory usage: 2.2+ KB\n"
     ]
    }
   ],
   "source": [
    "time_kitchen.info()"
   ]
  },
  {
   "cell_type": "markdown",
   "metadata": {},
   "source": [
    "Get mean +/- 1 standard deviation for plotting"
   ]
  },
  {
   "cell_type": "code",
   "execution_count": 183,
   "metadata": {},
   "outputs": [],
   "source": [
    "time_kitchen_mean_plus = time_kitchen_mean_float + time_kitchen_std_float\n",
    "time_kitchen_mean_minus = time_kitchen_mean_float - time_kitchen_std_float"
   ]
  },
  {
   "cell_type": "code",
   "execution_count": 184,
   "metadata": {},
   "outputs": [
    {
     "data": {
      "text/plain": [
       "Text(0.5, 0, 'Day')"
      ]
     },
     "execution_count": 184,
     "metadata": {},
     "output_type": "execute_result"
    },
    {
     "data": {
      "image/png": "[encoded data removed]",
      "text/plain": [
       "<Figure size 720x504 with 1 Axes>"
      ]
     },
     "metadata": {
      "needs_background": "light"
     },
     "output_type": "display_data"
    }
   ],
   "source": [
    "b = time_kitchen.plot(x = \"Date\", y = \"Time spent_float\", legend = False, figsize = (10,7))\n",
    "b.axhline(time_kitchen_mean_float, color = \"red\")\n",
    "b.axhline(time_kitchen_mean_plus, color = 'green')\n",
    "b.axhline(time_kitchen_mean_minus, color = 'green')\n",
    "b.set_ylabel(\"Time (h)\")\n",
    "b.set_xlabel('Day')"
   ]
  },
  {
   "cell_type": "code",
   "execution_count": null,
   "metadata": {},
   "outputs": [],
   "source": []
  }
 ],
 "metadata": {
  "kernelspec": {
   "display_name": "Python 3",
   "language": "python",
   "name": "python3"
  },
  "language_info": {
   "codemirror_mode": {
    "name": "ipython",
    "version": 3
   },
   "file_extension": ".py",
   "mimetype": "text/x-python",
   "name": "python",
   "nbconvert_exporter": "python",
   "pygments_lexer": "ipython3",
   "version": "3.8.5"
  }
 },
 "nbformat": 4,
 "nbformat_minor": 4
}
