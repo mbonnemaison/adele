{
 "cells": [
  {
   "cell_type": "code",
   "execution_count": 1,
   "metadata": {},
   "outputs": [],
   "source": [
    "import pandas as pd"
   ]
  },
  {
   "cell_type": "markdown",
   "metadata": {},
   "source": [
    "### Read the csv file\n",
    "Default separator is \",\" --> Need to specify the separator \";\""
   ]
  },
  {
   "cell_type": "code",
   "execution_count": 2,
   "metadata": {},
   "outputs": [],
   "source": [
    "data = pd.read_csv(\"Adele_du_2020-12-01_au_2021-02-27.csv\", sep = \";\")"
   ]
  },
  {
   "cell_type": "code",
   "execution_count": 3,
   "metadata": {},
   "outputs": [
    {
     "data": {
      "text/html": [
       "<div>\n",
       "<style scoped>\n",
       "    .dataframe tbody tr th:only-of-type {\n",
       "        vertical-align: middle;\n",
       "    }\n",
       "\n",
       "    .dataframe tbody tr th {\n",
       "        vertical-align: top;\n",
       "    }\n",
       "\n",
       "    .dataframe thead th {\n",
       "        text-align: right;\n",
       "    }\n",
       "</style>\n",
       "<table border=\"1\" class=\"dataframe\">\n",
       "  <thead>\n",
       "    <tr style=\"text-align: right;\">\n",
       "      <th></th>\n",
       "      <th>Date</th>\n",
       "      <th>Objet</th>\n",
       "      <th>Équipement</th>\n",
       "      <th>Commande</th>\n",
       "      <th>Type générique</th>\n",
       "      <th>Valeur</th>\n",
       "      <th>Unité</th>\n",
       "    </tr>\n",
       "  </thead>\n",
       "  <tbody>\n",
       "    <tr>\n",
       "      <th>0</th>\n",
       "      <td>2020-12-01 14:30:00</td>\n",
       "      <td>Appartement</td>\n",
       "      <td>5MultiSensor 6 (ZW100)</td>\n",
       "      <td>Humidité</td>\n",
       "      <td>HUMIDITY</td>\n",
       "      <td>64,500000000</td>\n",
       "      <td>%</td>\n",
       "    </tr>\n",
       "    <tr>\n",
       "      <th>1</th>\n",
       "      <td>2020-12-01 15:00:00</td>\n",
       "      <td>Appartement</td>\n",
       "      <td>5MultiSensor 6 (ZW100)</td>\n",
       "      <td>Humidité</td>\n",
       "      <td>HUMIDITY</td>\n",
       "      <td>57,250000000</td>\n",
       "      <td>%</td>\n",
       "    </tr>\n",
       "    <tr>\n",
       "      <th>2</th>\n",
       "      <td>2020-12-01 16:00:00</td>\n",
       "      <td>Appartement</td>\n",
       "      <td>5MultiSensor 6 (ZW100)</td>\n",
       "      <td>Humidité</td>\n",
       "      <td>HUMIDITY</td>\n",
       "      <td>55,750000000</td>\n",
       "      <td>%</td>\n",
       "    </tr>\n",
       "    <tr>\n",
       "      <th>3</th>\n",
       "      <td>2020-12-01 17:00:00</td>\n",
       "      <td>Appartement</td>\n",
       "      <td>5MultiSensor 6 (ZW100)</td>\n",
       "      <td>Humidité</td>\n",
       "      <td>HUMIDITY</td>\n",
       "      <td>54,000000000</td>\n",
       "      <td>%</td>\n",
       "    </tr>\n",
       "    <tr>\n",
       "      <th>4</th>\n",
       "      <td>2020-12-01 18:00:00</td>\n",
       "      <td>Appartement</td>\n",
       "      <td>5MultiSensor 6 (ZW100)</td>\n",
       "      <td>Humidité</td>\n",
       "      <td>HUMIDITY</td>\n",
       "      <td>54,250000000</td>\n",
       "      <td>%</td>\n",
       "    </tr>\n",
       "  </tbody>\n",
       "</table>\n",
       "</div>"
      ],
      "text/plain": [
       "                  Date        Objet              Équipement  Commande  \\\n",
       "0  2020-12-01 14:30:00  Appartement  5MultiSensor 6 (ZW100)  Humidité   \n",
       "1  2020-12-01 15:00:00  Appartement  5MultiSensor 6 (ZW100)  Humidité   \n",
       "2  2020-12-01 16:00:00  Appartement  5MultiSensor 6 (ZW100)  Humidité   \n",
       "3  2020-12-01 17:00:00  Appartement  5MultiSensor 6 (ZW100)  Humidité   \n",
       "4  2020-12-01 18:00:00  Appartement  5MultiSensor 6 (ZW100)  Humidité   \n",
       "\n",
       "  Type générique        Valeur Unité  \n",
       "0       HUMIDITY  64,500000000     %  \n",
       "1       HUMIDITY  57,250000000     %  \n",
       "2       HUMIDITY  55,750000000     %  \n",
       "3       HUMIDITY  54,000000000     %  \n",
       "4       HUMIDITY  54,250000000     %  "
      ]
     },
     "execution_count": 3,
     "metadata": {},
     "output_type": "execute_result"
    }
   ],
   "source": [
    "data.head()"
   ]
  },
  {
   "cell_type": "markdown",
   "metadata": {},
   "source": [
    "### Replace decimal marker\n",
    "In France, the decimal marker is a comma --> Need to change to a dot."
   ]
  },
  {
   "cell_type": "code",
   "execution_count": 4,
   "metadata": {},
   "outputs": [
    {
     "data": {
      "text/plain": [
       "0        64,500000000\n",
       "1        57,250000000\n",
       "2        55,750000000\n",
       "3        54,000000000\n",
       "4        54,250000000\n",
       "             ...     \n",
       "14291               0\n",
       "14292               0\n",
       "14293               0\n",
       "14294               0\n",
       "14295               0\n",
       "Name: Valeur, Length: 14296, dtype: object"
      ]
     },
     "execution_count": 4,
     "metadata": {},
     "output_type": "execute_result"
    }
   ],
   "source": [
    "data[\"Valeur\"]"
   ]
  },
  {
   "cell_type": "code",
   "execution_count": 5,
   "metadata": {},
   "outputs": [],
   "source": [
    "data[\"Valeur\"] = data[\"Valeur\"].str.replace(',','.')"
   ]
  },
  {
   "cell_type": "code",
   "execution_count": 6,
   "metadata": {},
   "outputs": [
    {
     "data": {
      "text/html": [
       "<div>\n",
       "<style scoped>\n",
       "    .dataframe tbody tr th:only-of-type {\n",
       "        vertical-align: middle;\n",
       "    }\n",
       "\n",
       "    .dataframe tbody tr th {\n",
       "        vertical-align: top;\n",
       "    }\n",
       "\n",
       "    .dataframe thead th {\n",
       "        text-align: right;\n",
       "    }\n",
       "</style>\n",
       "<table border=\"1\" class=\"dataframe\">\n",
       "  <thead>\n",
       "    <tr style=\"text-align: right;\">\n",
       "      <th></th>\n",
       "      <th>Date</th>\n",
       "      <th>Objet</th>\n",
       "      <th>Équipement</th>\n",
       "      <th>Commande</th>\n",
       "      <th>Type générique</th>\n",
       "      <th>Valeur</th>\n",
       "      <th>Unité</th>\n",
       "    </tr>\n",
       "  </thead>\n",
       "  <tbody>\n",
       "    <tr>\n",
       "      <th>0</th>\n",
       "      <td>2020-12-01 14:30:00</td>\n",
       "      <td>Appartement</td>\n",
       "      <td>5MultiSensor 6 (ZW100)</td>\n",
       "      <td>Humidité</td>\n",
       "      <td>HUMIDITY</td>\n",
       "      <td>64.500000000</td>\n",
       "      <td>%</td>\n",
       "    </tr>\n",
       "    <tr>\n",
       "      <th>1</th>\n",
       "      <td>2020-12-01 15:00:00</td>\n",
       "      <td>Appartement</td>\n",
       "      <td>5MultiSensor 6 (ZW100)</td>\n",
       "      <td>Humidité</td>\n",
       "      <td>HUMIDITY</td>\n",
       "      <td>57.250000000</td>\n",
       "      <td>%</td>\n",
       "    </tr>\n",
       "    <tr>\n",
       "      <th>2</th>\n",
       "      <td>2020-12-01 16:00:00</td>\n",
       "      <td>Appartement</td>\n",
       "      <td>5MultiSensor 6 (ZW100)</td>\n",
       "      <td>Humidité</td>\n",
       "      <td>HUMIDITY</td>\n",
       "      <td>55.750000000</td>\n",
       "      <td>%</td>\n",
       "    </tr>\n",
       "    <tr>\n",
       "      <th>3</th>\n",
       "      <td>2020-12-01 17:00:00</td>\n",
       "      <td>Appartement</td>\n",
       "      <td>5MultiSensor 6 (ZW100)</td>\n",
       "      <td>Humidité</td>\n",
       "      <td>HUMIDITY</td>\n",
       "      <td>54.000000000</td>\n",
       "      <td>%</td>\n",
       "    </tr>\n",
       "    <tr>\n",
       "      <th>4</th>\n",
       "      <td>2020-12-01 18:00:00</td>\n",
       "      <td>Appartement</td>\n",
       "      <td>5MultiSensor 6 (ZW100)</td>\n",
       "      <td>Humidité</td>\n",
       "      <td>HUMIDITY</td>\n",
       "      <td>54.250000000</td>\n",
       "      <td>%</td>\n",
       "    </tr>\n",
       "  </tbody>\n",
       "</table>\n",
       "</div>"
      ],
      "text/plain": [
       "                  Date        Objet              Équipement  Commande  \\\n",
       "0  2020-12-01 14:30:00  Appartement  5MultiSensor 6 (ZW100)  Humidité   \n",
       "1  2020-12-01 15:00:00  Appartement  5MultiSensor 6 (ZW100)  Humidité   \n",
       "2  2020-12-01 16:00:00  Appartement  5MultiSensor 6 (ZW100)  Humidité   \n",
       "3  2020-12-01 17:00:00  Appartement  5MultiSensor 6 (ZW100)  Humidité   \n",
       "4  2020-12-01 18:00:00  Appartement  5MultiSensor 6 (ZW100)  Humidité   \n",
       "\n",
       "  Type générique        Valeur Unité  \n",
       "0       HUMIDITY  64.500000000     %  \n",
       "1       HUMIDITY  57.250000000     %  \n",
       "2       HUMIDITY  55.750000000     %  \n",
       "3       HUMIDITY  54.000000000     %  \n",
       "4       HUMIDITY  54.250000000     %  "
      ]
     },
     "execution_count": 6,
     "metadata": {},
     "output_type": "execute_result"
    }
   ],
   "source": [
    "data.head()"
   ]
  },
  {
   "cell_type": "code",
   "execution_count": 7,
   "metadata": {},
   "outputs": [
    {
     "name": "stdout",
     "output_type": "stream",
     "text": [
      "<class 'pandas.core.frame.DataFrame'>\n",
      "RangeIndex: 14296 entries, 0 to 14295\n",
      "Data columns (total 7 columns):\n",
      " #   Column          Non-Null Count  Dtype \n",
      "---  ------          --------------  ----- \n",
      " 0   Date            14296 non-null  object\n",
      " 1   Objet           14296 non-null  object\n",
      " 2   Équipement      14296 non-null  object\n",
      " 3   Commande        14296 non-null  object\n",
      " 4   Type générique  14296 non-null  object\n",
      " 5   Valeur          14296 non-null  object\n",
      " 6   Unité           6540 non-null   object\n",
      "dtypes: object(7)\n",
      "memory usage: 781.9+ KB\n"
     ]
    }
   ],
   "source": [
    "data.info()"
   ]
  },
  {
   "cell_type": "markdown",
   "metadata": {},
   "source": [
    "### Convert data type from object to float\n",
    "The **Valeur** column contains data we want to analyze but the data is an object. Only if the data is considered as floats or integers can these data be analyzed."
   ]
  },
  {
   "cell_type": "code",
   "execution_count": 8,
   "metadata": {},
   "outputs": [],
   "source": [
    "data[\"Valeur\"] = data.Valeur.astype(float)"
   ]
  },
  {
   "cell_type": "code",
   "execution_count": 9,
   "metadata": {},
   "outputs": [
    {
     "name": "stdout",
     "output_type": "stream",
     "text": [
      "<class 'pandas.core.frame.DataFrame'>\n",
      "RangeIndex: 14296 entries, 0 to 14295\n",
      "Data columns (total 7 columns):\n",
      " #   Column          Non-Null Count  Dtype  \n",
      "---  ------          --------------  -----  \n",
      " 0   Date            14296 non-null  object \n",
      " 1   Objet           14296 non-null  object \n",
      " 2   Équipement      14296 non-null  object \n",
      " 3   Commande        14296 non-null  object \n",
      " 4   Type générique  14296 non-null  object \n",
      " 5   Valeur          14296 non-null  float64\n",
      " 6   Unité           6540 non-null   object \n",
      "dtypes: float64(1), object(6)\n",
      "memory usage: 781.9+ KB\n"
     ]
    }
   ],
   "source": [
    "data.info()"
   ]
  },
  {
   "cell_type": "markdown",
   "metadata": {},
   "source": [
    "### Remove the columns we don't need\n",
    "Columns **Objet**, **Equipement** and **Commande** are not useful for our analysis --> Remove them to simplify our work."
   ]
  },
  {
   "cell_type": "code",
   "execution_count": 10,
   "metadata": {},
   "outputs": [
    {
     "data": {
      "text/html": [
       "<div>\n",
       "<style scoped>\n",
       "    .dataframe tbody tr th:only-of-type {\n",
       "        vertical-align: middle;\n",
       "    }\n",
       "\n",
       "    .dataframe tbody tr th {\n",
       "        vertical-align: top;\n",
       "    }\n",
       "\n",
       "    .dataframe thead th {\n",
       "        text-align: right;\n",
       "    }\n",
       "</style>\n",
       "<table border=\"1\" class=\"dataframe\">\n",
       "  <thead>\n",
       "    <tr style=\"text-align: right;\">\n",
       "      <th></th>\n",
       "      <th>Date</th>\n",
       "      <th>Objet</th>\n",
       "      <th>Équipement</th>\n",
       "      <th>Commande</th>\n",
       "      <th>Type générique</th>\n",
       "      <th>Valeur</th>\n",
       "      <th>Unité</th>\n",
       "    </tr>\n",
       "  </thead>\n",
       "  <tbody>\n",
       "    <tr>\n",
       "      <th>0</th>\n",
       "      <td>2020-12-01 14:30:00</td>\n",
       "      <td>Appartement</td>\n",
       "      <td>5MultiSensor 6 (ZW100)</td>\n",
       "      <td>Humidité</td>\n",
       "      <td>HUMIDITY</td>\n",
       "      <td>64.50</td>\n",
       "      <td>%</td>\n",
       "    </tr>\n",
       "    <tr>\n",
       "      <th>1</th>\n",
       "      <td>2020-12-01 15:00:00</td>\n",
       "      <td>Appartement</td>\n",
       "      <td>5MultiSensor 6 (ZW100)</td>\n",
       "      <td>Humidité</td>\n",
       "      <td>HUMIDITY</td>\n",
       "      <td>57.25</td>\n",
       "      <td>%</td>\n",
       "    </tr>\n",
       "    <tr>\n",
       "      <th>2</th>\n",
       "      <td>2020-12-01 16:00:00</td>\n",
       "      <td>Appartement</td>\n",
       "      <td>5MultiSensor 6 (ZW100)</td>\n",
       "      <td>Humidité</td>\n",
       "      <td>HUMIDITY</td>\n",
       "      <td>55.75</td>\n",
       "      <td>%</td>\n",
       "    </tr>\n",
       "    <tr>\n",
       "      <th>3</th>\n",
       "      <td>2020-12-01 17:00:00</td>\n",
       "      <td>Appartement</td>\n",
       "      <td>5MultiSensor 6 (ZW100)</td>\n",
       "      <td>Humidité</td>\n",
       "      <td>HUMIDITY</td>\n",
       "      <td>54.00</td>\n",
       "      <td>%</td>\n",
       "    </tr>\n",
       "    <tr>\n",
       "      <th>4</th>\n",
       "      <td>2020-12-01 18:00:00</td>\n",
       "      <td>Appartement</td>\n",
       "      <td>5MultiSensor 6 (ZW100)</td>\n",
       "      <td>Humidité</td>\n",
       "      <td>HUMIDITY</td>\n",
       "      <td>54.25</td>\n",
       "      <td>%</td>\n",
       "    </tr>\n",
       "  </tbody>\n",
       "</table>\n",
       "</div>"
      ],
      "text/plain": [
       "                  Date        Objet              Équipement  Commande  \\\n",
       "0  2020-12-01 14:30:00  Appartement  5MultiSensor 6 (ZW100)  Humidité   \n",
       "1  2020-12-01 15:00:00  Appartement  5MultiSensor 6 (ZW100)  Humidité   \n",
       "2  2020-12-01 16:00:00  Appartement  5MultiSensor 6 (ZW100)  Humidité   \n",
       "3  2020-12-01 17:00:00  Appartement  5MultiSensor 6 (ZW100)  Humidité   \n",
       "4  2020-12-01 18:00:00  Appartement  5MultiSensor 6 (ZW100)  Humidité   \n",
       "\n",
       "  Type générique  Valeur Unité  \n",
       "0       HUMIDITY   64.50     %  \n",
       "1       HUMIDITY   57.25     %  \n",
       "2       HUMIDITY   55.75     %  \n",
       "3       HUMIDITY   54.00     %  \n",
       "4       HUMIDITY   54.25     %  "
      ]
     },
     "execution_count": 10,
     "metadata": {},
     "output_type": "execute_result"
    }
   ],
   "source": [
    "data.head()"
   ]
  },
  {
   "cell_type": "code",
   "execution_count": 11,
   "metadata": {},
   "outputs": [],
   "source": [
    "data = data.drop([\"Objet\", \"Équipement\", \"Commande\"], 1)"
   ]
  },
  {
   "cell_type": "code",
   "execution_count": 12,
   "metadata": {},
   "outputs": [
    {
     "data": {
      "text/html": [
       "<div>\n",
       "<style scoped>\n",
       "    .dataframe tbody tr th:only-of-type {\n",
       "        vertical-align: middle;\n",
       "    }\n",
       "\n",
       "    .dataframe tbody tr th {\n",
       "        vertical-align: top;\n",
       "    }\n",
       "\n",
       "    .dataframe thead th {\n",
       "        text-align: right;\n",
       "    }\n",
       "</style>\n",
       "<table border=\"1\" class=\"dataframe\">\n",
       "  <thead>\n",
       "    <tr style=\"text-align: right;\">\n",
       "      <th></th>\n",
       "      <th>Date</th>\n",
       "      <th>Type générique</th>\n",
       "      <th>Valeur</th>\n",
       "      <th>Unité</th>\n",
       "    </tr>\n",
       "  </thead>\n",
       "  <tbody>\n",
       "    <tr>\n",
       "      <th>0</th>\n",
       "      <td>2020-12-01 14:30:00</td>\n",
       "      <td>HUMIDITY</td>\n",
       "      <td>64.50</td>\n",
       "      <td>%</td>\n",
       "    </tr>\n",
       "    <tr>\n",
       "      <th>1</th>\n",
       "      <td>2020-12-01 15:00:00</td>\n",
       "      <td>HUMIDITY</td>\n",
       "      <td>57.25</td>\n",
       "      <td>%</td>\n",
       "    </tr>\n",
       "    <tr>\n",
       "      <th>2</th>\n",
       "      <td>2020-12-01 16:00:00</td>\n",
       "      <td>HUMIDITY</td>\n",
       "      <td>55.75</td>\n",
       "      <td>%</td>\n",
       "    </tr>\n",
       "    <tr>\n",
       "      <th>3</th>\n",
       "      <td>2020-12-01 17:00:00</td>\n",
       "      <td>HUMIDITY</td>\n",
       "      <td>54.00</td>\n",
       "      <td>%</td>\n",
       "    </tr>\n",
       "    <tr>\n",
       "      <th>4</th>\n",
       "      <td>2020-12-01 18:00:00</td>\n",
       "      <td>HUMIDITY</td>\n",
       "      <td>54.25</td>\n",
       "      <td>%</td>\n",
       "    </tr>\n",
       "  </tbody>\n",
       "</table>\n",
       "</div>"
      ],
      "text/plain": [
       "                  Date Type générique  Valeur Unité\n",
       "0  2020-12-01 14:30:00       HUMIDITY   64.50     %\n",
       "1  2020-12-01 15:00:00       HUMIDITY   57.25     %\n",
       "2  2020-12-01 16:00:00       HUMIDITY   55.75     %\n",
       "3  2020-12-01 17:00:00       HUMIDITY   54.00     %\n",
       "4  2020-12-01 18:00:00       HUMIDITY   54.25     %"
      ]
     },
     "execution_count": 12,
     "metadata": {},
     "output_type": "execute_result"
    }
   ],
   "source": [
    "data.head()"
   ]
  },
  {
   "cell_type": "code",
   "execution_count": 13,
   "metadata": {},
   "outputs": [
    {
     "name": "stdout",
     "output_type": "stream",
     "text": [
      "<class 'pandas.core.frame.DataFrame'>\n",
      "RangeIndex: 14296 entries, 0 to 14295\n",
      "Data columns (total 4 columns):\n",
      " #   Column          Non-Null Count  Dtype  \n",
      "---  ------          --------------  -----  \n",
      " 0   Date            14296 non-null  object \n",
      " 1   Type générique  14296 non-null  object \n",
      " 2   Valeur          14296 non-null  float64\n",
      " 3   Unité           6540 non-null   object \n",
      "dtypes: float64(1), object(3)\n",
      "memory usage: 446.9+ KB\n"
     ]
    }
   ],
   "source": [
    "data.info()"
   ]
  },
  {
   "cell_type": "markdown",
   "metadata": {},
   "source": [
    "### Convert the Date into a Datetime stamp\n",
    "This step will help in the calculations"
   ]
  },
  {
   "cell_type": "code",
   "execution_count": 14,
   "metadata": {},
   "outputs": [],
   "source": [
    "data[\"Date\"] = pd.to_datetime(data[\"Date\"])"
   ]
  },
  {
   "cell_type": "code",
   "execution_count": 15,
   "metadata": {},
   "outputs": [
    {
     "name": "stdout",
     "output_type": "stream",
     "text": [
      "<class 'pandas.core.frame.DataFrame'>\n",
      "RangeIndex: 14296 entries, 0 to 14295\n",
      "Data columns (total 4 columns):\n",
      " #   Column          Non-Null Count  Dtype         \n",
      "---  ------          --------------  -----         \n",
      " 0   Date            14296 non-null  datetime64[ns]\n",
      " 1   Type générique  14296 non-null  object        \n",
      " 2   Valeur          14296 non-null  float64       \n",
      " 3   Unité           6540 non-null   object        \n",
      "dtypes: datetime64[ns](1), float64(1), object(2)\n",
      "memory usage: 446.9+ KB\n"
     ]
    }
   ],
   "source": [
    "data.info()"
   ]
  },
  {
   "cell_type": "code",
   "execution_count": 16,
   "metadata": {},
   "outputs": [
    {
     "data": {
      "text/html": [
       "<div>\n",
       "<style scoped>\n",
       "    .dataframe tbody tr th:only-of-type {\n",
       "        vertical-align: middle;\n",
       "    }\n",
       "\n",
       "    .dataframe tbody tr th {\n",
       "        vertical-align: top;\n",
       "    }\n",
       "\n",
       "    .dataframe thead th {\n",
       "        text-align: right;\n",
       "    }\n",
       "</style>\n",
       "<table border=\"1\" class=\"dataframe\">\n",
       "  <thead>\n",
       "    <tr style=\"text-align: right;\">\n",
       "      <th></th>\n",
       "      <th>Date</th>\n",
       "      <th>Type générique</th>\n",
       "      <th>Valeur</th>\n",
       "      <th>Unité</th>\n",
       "    </tr>\n",
       "  </thead>\n",
       "  <tbody>\n",
       "    <tr>\n",
       "      <th>0</th>\n",
       "      <td>2020-12-01 14:30:00</td>\n",
       "      <td>HUMIDITY</td>\n",
       "      <td>64.50</td>\n",
       "      <td>%</td>\n",
       "    </tr>\n",
       "    <tr>\n",
       "      <th>1</th>\n",
       "      <td>2020-12-01 15:00:00</td>\n",
       "      <td>HUMIDITY</td>\n",
       "      <td>57.25</td>\n",
       "      <td>%</td>\n",
       "    </tr>\n",
       "    <tr>\n",
       "      <th>2</th>\n",
       "      <td>2020-12-01 16:00:00</td>\n",
       "      <td>HUMIDITY</td>\n",
       "      <td>55.75</td>\n",
       "      <td>%</td>\n",
       "    </tr>\n",
       "    <tr>\n",
       "      <th>3</th>\n",
       "      <td>2020-12-01 17:00:00</td>\n",
       "      <td>HUMIDITY</td>\n",
       "      <td>54.00</td>\n",
       "      <td>%</td>\n",
       "    </tr>\n",
       "    <tr>\n",
       "      <th>4</th>\n",
       "      <td>2020-12-01 18:00:00</td>\n",
       "      <td>HUMIDITY</td>\n",
       "      <td>54.25</td>\n",
       "      <td>%</td>\n",
       "    </tr>\n",
       "  </tbody>\n",
       "</table>\n",
       "</div>"
      ],
      "text/plain": [
       "                 Date Type générique  Valeur Unité\n",
       "0 2020-12-01 14:30:00       HUMIDITY   64.50     %\n",
       "1 2020-12-01 15:00:00       HUMIDITY   57.25     %\n",
       "2 2020-12-01 16:00:00       HUMIDITY   55.75     %\n",
       "3 2020-12-01 17:00:00       HUMIDITY   54.00     %\n",
       "4 2020-12-01 18:00:00       HUMIDITY   54.25     %"
      ]
     },
     "execution_count": 16,
     "metadata": {},
     "output_type": "execute_result"
    }
   ],
   "source": [
    "data.head()"
   ]
  },
  {
   "cell_type": "markdown",
   "metadata": {},
   "source": [
    "### Change the names of the columns"
   ]
  },
  {
   "cell_type": "code",
   "execution_count": 17,
   "metadata": {},
   "outputs": [],
   "source": [
    "data = data.rename(columns={\"Type générique\":\"Type\", \"Valeur\":\"Value\", \"Unité\":\"Unit\"})"
   ]
  },
  {
   "cell_type": "code",
   "execution_count": 18,
   "metadata": {},
   "outputs": [
    {
     "data": {
      "text/html": [
       "<div>\n",
       "<style scoped>\n",
       "    .dataframe tbody tr th:only-of-type {\n",
       "        vertical-align: middle;\n",
       "    }\n",
       "\n",
       "    .dataframe tbody tr th {\n",
       "        vertical-align: top;\n",
       "    }\n",
       "\n",
       "    .dataframe thead th {\n",
       "        text-align: right;\n",
       "    }\n",
       "</style>\n",
       "<table border=\"1\" class=\"dataframe\">\n",
       "  <thead>\n",
       "    <tr style=\"text-align: right;\">\n",
       "      <th></th>\n",
       "      <th>Date</th>\n",
       "      <th>Type</th>\n",
       "      <th>Value</th>\n",
       "      <th>Unit</th>\n",
       "    </tr>\n",
       "  </thead>\n",
       "  <tbody>\n",
       "    <tr>\n",
       "      <th>0</th>\n",
       "      <td>2020-12-01 14:30:00</td>\n",
       "      <td>HUMIDITY</td>\n",
       "      <td>64.50</td>\n",
       "      <td>%</td>\n",
       "    </tr>\n",
       "    <tr>\n",
       "      <th>1</th>\n",
       "      <td>2020-12-01 15:00:00</td>\n",
       "      <td>HUMIDITY</td>\n",
       "      <td>57.25</td>\n",
       "      <td>%</td>\n",
       "    </tr>\n",
       "    <tr>\n",
       "      <th>2</th>\n",
       "      <td>2020-12-01 16:00:00</td>\n",
       "      <td>HUMIDITY</td>\n",
       "      <td>55.75</td>\n",
       "      <td>%</td>\n",
       "    </tr>\n",
       "    <tr>\n",
       "      <th>3</th>\n",
       "      <td>2020-12-01 17:00:00</td>\n",
       "      <td>HUMIDITY</td>\n",
       "      <td>54.00</td>\n",
       "      <td>%</td>\n",
       "    </tr>\n",
       "    <tr>\n",
       "      <th>4</th>\n",
       "      <td>2020-12-01 18:00:00</td>\n",
       "      <td>HUMIDITY</td>\n",
       "      <td>54.25</td>\n",
       "      <td>%</td>\n",
       "    </tr>\n",
       "  </tbody>\n",
       "</table>\n",
       "</div>"
      ],
      "text/plain": [
       "                 Date      Type  Value Unit\n",
       "0 2020-12-01 14:30:00  HUMIDITY  64.50    %\n",
       "1 2020-12-01 15:00:00  HUMIDITY  57.25    %\n",
       "2 2020-12-01 16:00:00  HUMIDITY  55.75    %\n",
       "3 2020-12-01 17:00:00  HUMIDITY  54.00    %\n",
       "4 2020-12-01 18:00:00  HUMIDITY  54.25    %"
      ]
     },
     "execution_count": 18,
     "metadata": {},
     "output_type": "execute_result"
    }
   ],
   "source": [
    "data.head()"
   ]
  },
  {
   "cell_type": "markdown",
   "metadata": {},
   "source": [
    "### Select rows where type is PRESENCE"
   ]
  },
  {
   "cell_type": "code",
   "execution_count": 19,
   "metadata": {},
   "outputs": [],
   "source": [
    "data_presence = data.loc[data[\"Type\"] == \"PRESENCE\"]"
   ]
  },
  {
   "cell_type": "code",
   "execution_count": 20,
   "metadata": {},
   "outputs": [
    {
     "data": {
      "text/html": [
       "<div>\n",
       "<style scoped>\n",
       "    .dataframe tbody tr th:only-of-type {\n",
       "        vertical-align: middle;\n",
       "    }\n",
       "\n",
       "    .dataframe tbody tr th {\n",
       "        vertical-align: top;\n",
       "    }\n",
       "\n",
       "    .dataframe thead th {\n",
       "        text-align: right;\n",
       "    }\n",
       "</style>\n",
       "<table border=\"1\" class=\"dataframe\">\n",
       "  <thead>\n",
       "    <tr style=\"text-align: right;\">\n",
       "      <th></th>\n",
       "      <th>Date</th>\n",
       "      <th>Type</th>\n",
       "      <th>Value</th>\n",
       "      <th>Unit</th>\n",
       "    </tr>\n",
       "  </thead>\n",
       "  <tbody>\n",
       "    <tr>\n",
       "      <th>4360</th>\n",
       "      <td>2020-12-01 14:36:20</td>\n",
       "      <td>PRESENCE</td>\n",
       "      <td>0.0</td>\n",
       "      <td>NaN</td>\n",
       "    </tr>\n",
       "    <tr>\n",
       "      <th>4361</th>\n",
       "      <td>2020-12-01 14:49:20</td>\n",
       "      <td>PRESENCE</td>\n",
       "      <td>1.0</td>\n",
       "      <td>NaN</td>\n",
       "    </tr>\n",
       "    <tr>\n",
       "      <th>4362</th>\n",
       "      <td>2020-12-01 14:54:57</td>\n",
       "      <td>PRESENCE</td>\n",
       "      <td>0.0</td>\n",
       "      <td>NaN</td>\n",
       "    </tr>\n",
       "    <tr>\n",
       "      <th>4363</th>\n",
       "      <td>2020-12-01 14:59:10</td>\n",
       "      <td>PRESENCE</td>\n",
       "      <td>1.0</td>\n",
       "      <td>NaN</td>\n",
       "    </tr>\n",
       "    <tr>\n",
       "      <th>4364</th>\n",
       "      <td>2020-12-01 15:03:32</td>\n",
       "      <td>PRESENCE</td>\n",
       "      <td>0.0</td>\n",
       "      <td>NaN</td>\n",
       "    </tr>\n",
       "    <tr>\n",
       "      <th>...</th>\n",
       "      <td>...</td>\n",
       "      <td>...</td>\n",
       "      <td>...</td>\n",
       "      <td>...</td>\n",
       "    </tr>\n",
       "    <tr>\n",
       "      <th>9776</th>\n",
       "      <td>2021-02-27 13:14:08</td>\n",
       "      <td>PRESENCE</td>\n",
       "      <td>0.0</td>\n",
       "      <td>NaN</td>\n",
       "    </tr>\n",
       "    <tr>\n",
       "      <th>9777</th>\n",
       "      <td>2021-02-27 13:45:18</td>\n",
       "      <td>PRESENCE</td>\n",
       "      <td>1.0</td>\n",
       "      <td>NaN</td>\n",
       "    </tr>\n",
       "    <tr>\n",
       "      <th>9778</th>\n",
       "      <td>2021-02-27 13:50:39</td>\n",
       "      <td>PRESENCE</td>\n",
       "      <td>0.0</td>\n",
       "      <td>NaN</td>\n",
       "    </tr>\n",
       "    <tr>\n",
       "      <th>9779</th>\n",
       "      <td>2021-02-27 14:13:32</td>\n",
       "      <td>PRESENCE</td>\n",
       "      <td>1.0</td>\n",
       "      <td>NaN</td>\n",
       "    </tr>\n",
       "    <tr>\n",
       "      <th>9780</th>\n",
       "      <td>2021-02-27 14:17:57</td>\n",
       "      <td>PRESENCE</td>\n",
       "      <td>0.0</td>\n",
       "      <td>NaN</td>\n",
       "    </tr>\n",
       "  </tbody>\n",
       "</table>\n",
       "<p>5421 rows × 4 columns</p>\n",
       "</div>"
      ],
      "text/plain": [
       "                    Date      Type  Value Unit\n",
       "4360 2020-12-01 14:36:20  PRESENCE    0.0  NaN\n",
       "4361 2020-12-01 14:49:20  PRESENCE    1.0  NaN\n",
       "4362 2020-12-01 14:54:57  PRESENCE    0.0  NaN\n",
       "4363 2020-12-01 14:59:10  PRESENCE    1.0  NaN\n",
       "4364 2020-12-01 15:03:32  PRESENCE    0.0  NaN\n",
       "...                  ...       ...    ...  ...\n",
       "9776 2021-02-27 13:14:08  PRESENCE    0.0  NaN\n",
       "9777 2021-02-27 13:45:18  PRESENCE    1.0  NaN\n",
       "9778 2021-02-27 13:50:39  PRESENCE    0.0  NaN\n",
       "9779 2021-02-27 14:13:32  PRESENCE    1.0  NaN\n",
       "9780 2021-02-27 14:17:57  PRESENCE    0.0  NaN\n",
       "\n",
       "[5421 rows x 4 columns]"
      ]
     },
     "execution_count": 20,
     "metadata": {},
     "output_type": "execute_result"
    }
   ],
   "source": [
    "data_presence"
   ]
  },
  {
   "cell_type": "code",
   "execution_count": 21,
   "metadata": {},
   "outputs": [
    {
     "name": "stdout",
     "output_type": "stream",
     "text": [
      "<class 'pandas.core.frame.DataFrame'>\n",
      "Int64Index: 5421 entries, 4360 to 9780\n",
      "Data columns (total 4 columns):\n",
      " #   Column  Non-Null Count  Dtype         \n",
      "---  ------  --------------  -----         \n",
      " 0   Date    5421 non-null   datetime64[ns]\n",
      " 1   Type    5421 non-null   object        \n",
      " 2   Value   5421 non-null   float64       \n",
      " 3   Unit    0 non-null      object        \n",
      "dtypes: datetime64[ns](1), float64(1), object(2)\n",
      "memory usage: 211.8+ KB\n"
     ]
    }
   ],
   "source": [
    "data_presence.info()"
   ]
  },
  {
   "cell_type": "markdown",
   "metadata": {},
   "source": [
    "### Remove values on Dec. 01"
   ]
  },
  {
   "cell_type": "code",
   "execution_count": 22,
   "metadata": {},
   "outputs": [
    {
     "data": {
      "text/html": [
       "<div>\n",
       "<style scoped>\n",
       "    .dataframe tbody tr th:only-of-type {\n",
       "        vertical-align: middle;\n",
       "    }\n",
       "\n",
       "    .dataframe tbody tr th {\n",
       "        vertical-align: top;\n",
       "    }\n",
       "\n",
       "    .dataframe thead th {\n",
       "        text-align: right;\n",
       "    }\n",
       "</style>\n",
       "<table border=\"1\" class=\"dataframe\">\n",
       "  <thead>\n",
       "    <tr style=\"text-align: right;\">\n",
       "      <th></th>\n",
       "      <th>Date</th>\n",
       "      <th>Type</th>\n",
       "      <th>Value</th>\n",
       "      <th>Unit</th>\n",
       "    </tr>\n",
       "  </thead>\n",
       "  <tbody>\n",
       "    <tr>\n",
       "      <th>4391</th>\n",
       "      <td>2020-12-02 02:04:55</td>\n",
       "      <td>PRESENCE</td>\n",
       "      <td>1.0</td>\n",
       "      <td>NaN</td>\n",
       "    </tr>\n",
       "    <tr>\n",
       "      <th>4392</th>\n",
       "      <td>2020-12-02 02:09:44</td>\n",
       "      <td>PRESENCE</td>\n",
       "      <td>0.0</td>\n",
       "      <td>NaN</td>\n",
       "    </tr>\n",
       "    <tr>\n",
       "      <th>4393</th>\n",
       "      <td>2020-12-02 06:15:31</td>\n",
       "      <td>PRESENCE</td>\n",
       "      <td>1.0</td>\n",
       "      <td>NaN</td>\n",
       "    </tr>\n",
       "    <tr>\n",
       "      <th>4394</th>\n",
       "      <td>2020-12-02 06:27:53</td>\n",
       "      <td>PRESENCE</td>\n",
       "      <td>0.0</td>\n",
       "      <td>NaN</td>\n",
       "    </tr>\n",
       "    <tr>\n",
       "      <th>4395</th>\n",
       "      <td>2020-12-02 06:33:01</td>\n",
       "      <td>PRESENCE</td>\n",
       "      <td>1.0</td>\n",
       "      <td>NaN</td>\n",
       "    </tr>\n",
       "    <tr>\n",
       "      <th>...</th>\n",
       "      <td>...</td>\n",
       "      <td>...</td>\n",
       "      <td>...</td>\n",
       "      <td>...</td>\n",
       "    </tr>\n",
       "    <tr>\n",
       "      <th>9776</th>\n",
       "      <td>2021-02-27 13:14:08</td>\n",
       "      <td>PRESENCE</td>\n",
       "      <td>0.0</td>\n",
       "      <td>NaN</td>\n",
       "    </tr>\n",
       "    <tr>\n",
       "      <th>9777</th>\n",
       "      <td>2021-02-27 13:45:18</td>\n",
       "      <td>PRESENCE</td>\n",
       "      <td>1.0</td>\n",
       "      <td>NaN</td>\n",
       "    </tr>\n",
       "    <tr>\n",
       "      <th>9778</th>\n",
       "      <td>2021-02-27 13:50:39</td>\n",
       "      <td>PRESENCE</td>\n",
       "      <td>0.0</td>\n",
       "      <td>NaN</td>\n",
       "    </tr>\n",
       "    <tr>\n",
       "      <th>9779</th>\n",
       "      <td>2021-02-27 14:13:32</td>\n",
       "      <td>PRESENCE</td>\n",
       "      <td>1.0</td>\n",
       "      <td>NaN</td>\n",
       "    </tr>\n",
       "    <tr>\n",
       "      <th>9780</th>\n",
       "      <td>2021-02-27 14:17:57</td>\n",
       "      <td>PRESENCE</td>\n",
       "      <td>0.0</td>\n",
       "      <td>NaN</td>\n",
       "    </tr>\n",
       "  </tbody>\n",
       "</table>\n",
       "<p>5390 rows × 4 columns</p>\n",
       "</div>"
      ],
      "text/plain": [
       "                    Date      Type  Value Unit\n",
       "4391 2020-12-02 02:04:55  PRESENCE    1.0  NaN\n",
       "4392 2020-12-02 02:09:44  PRESENCE    0.0  NaN\n",
       "4393 2020-12-02 06:15:31  PRESENCE    1.0  NaN\n",
       "4394 2020-12-02 06:27:53  PRESENCE    0.0  NaN\n",
       "4395 2020-12-02 06:33:01  PRESENCE    1.0  NaN\n",
       "...                  ...       ...    ...  ...\n",
       "9776 2021-02-27 13:14:08  PRESENCE    0.0  NaN\n",
       "9777 2021-02-27 13:45:18  PRESENCE    1.0  NaN\n",
       "9778 2021-02-27 13:50:39  PRESENCE    0.0  NaN\n",
       "9779 2021-02-27 14:13:32  PRESENCE    1.0  NaN\n",
       "9780 2021-02-27 14:17:57  PRESENCE    0.0  NaN\n",
       "\n",
       "[5390 rows x 4 columns]"
      ]
     },
     "execution_count": 22,
     "metadata": {},
     "output_type": "execute_result"
    }
   ],
   "source": [
    "start_date = pd.to_datetime('2020-12-01 23:59:59')\n",
    "data_presence = data_presence.loc[(data_presence['Date'] >= start_date)]\n",
    "data_presence"
   ]
  },
  {
   "cell_type": "markdown",
   "metadata": {},
   "source": [
    "### Select the rows where presence is 1 for the first time in the day"
   ]
  },
  {
   "cell_type": "code",
   "execution_count": 23,
   "metadata": {},
   "outputs": [],
   "source": [
    "start_date = pd.to_datetime(\"2020-12-02 00:00:00\")\n",
    "end_date = pd.to_datetime(\"2020-12-03 00:00:00\")\n",
    "last_date = pd.to_datetime(\"2021-02-27 00:00:00\")\n",
    "first_time = pd.DataFrame()\n",
    "while end_date < last_date:\n",
    "    select_start = data_presence[(data_presence[\"Date\"] >= start_date)]\n",
    "    select_end = select_start[(select_start[\"Date\"] <= end_date)]\n",
    "    start_date = start_date + pd.Timedelta(days=1)\n",
    "    end_date = end_date + pd.Timedelta(days=1)\n",
    "    if select_end.shape == (0, 4):\n",
    "        continue\n",
    "    if start_date == pd.to_datetime(\"2020-12-31 00:00:00\"):\n",
    "        continue\n",
    "    else:\n",
    "        top_row = select_end.iloc[0,]\n",
    "        first_time = first_time.append(top_row)\n",
    "first_time.to_csv(\"first_time.csv\")"
   ]
  },
  {
   "cell_type": "code",
   "execution_count": 24,
   "metadata": {},
   "outputs": [
    {
     "data": {
      "text/html": [
       "<div>\n",
       "<style scoped>\n",
       "    .dataframe tbody tr th:only-of-type {\n",
       "        vertical-align: middle;\n",
       "    }\n",
       "\n",
       "    .dataframe tbody tr th {\n",
       "        vertical-align: top;\n",
       "    }\n",
       "\n",
       "    .dataframe thead th {\n",
       "        text-align: right;\n",
       "    }\n",
       "</style>\n",
       "<table border=\"1\" class=\"dataframe\">\n",
       "  <thead>\n",
       "    <tr style=\"text-align: right;\">\n",
       "      <th></th>\n",
       "      <th>Date</th>\n",
       "      <th>Type</th>\n",
       "      <th>Unit</th>\n",
       "      <th>Value</th>\n",
       "    </tr>\n",
       "  </thead>\n",
       "  <tbody>\n",
       "    <tr>\n",
       "      <th>4391</th>\n",
       "      <td>2020-12-02 02:04:55</td>\n",
       "      <td>PRESENCE</td>\n",
       "      <td>NaN</td>\n",
       "      <td>1.0</td>\n",
       "    </tr>\n",
       "    <tr>\n",
       "      <th>4457</th>\n",
       "      <td>2020-12-03 05:32:59</td>\n",
       "      <td>PRESENCE</td>\n",
       "      <td>NaN</td>\n",
       "      <td>1.0</td>\n",
       "    </tr>\n",
       "    <tr>\n",
       "      <th>4511</th>\n",
       "      <td>2020-12-04 04:33:35</td>\n",
       "      <td>PRESENCE</td>\n",
       "      <td>NaN</td>\n",
       "      <td>1.0</td>\n",
       "    </tr>\n",
       "    <tr>\n",
       "      <th>4577</th>\n",
       "      <td>2020-12-05 08:01:38</td>\n",
       "      <td>PRESENCE</td>\n",
       "      <td>NaN</td>\n",
       "      <td>1.0</td>\n",
       "    </tr>\n",
       "    <tr>\n",
       "      <th>4651</th>\n",
       "      <td>2020-12-06 05:04:23</td>\n",
       "      <td>PRESENCE</td>\n",
       "      <td>NaN</td>\n",
       "      <td>1.0</td>\n",
       "    </tr>\n",
       "    <tr>\n",
       "      <th>...</th>\n",
       "      <td>...</td>\n",
       "      <td>...</td>\n",
       "      <td>...</td>\n",
       "      <td>...</td>\n",
       "    </tr>\n",
       "    <tr>\n",
       "      <th>9331</th>\n",
       "      <td>2021-02-21 05:14:32</td>\n",
       "      <td>PRESENCE</td>\n",
       "      <td>NaN</td>\n",
       "      <td>1.0</td>\n",
       "    </tr>\n",
       "    <tr>\n",
       "      <th>9381</th>\n",
       "      <td>2021-02-22 06:08:54</td>\n",
       "      <td>PRESENCE</td>\n",
       "      <td>NaN</td>\n",
       "      <td>1.0</td>\n",
       "    </tr>\n",
       "    <tr>\n",
       "      <th>9445</th>\n",
       "      <td>2021-02-23 05:55:09</td>\n",
       "      <td>PRESENCE</td>\n",
       "      <td>NaN</td>\n",
       "      <td>1.0</td>\n",
       "    </tr>\n",
       "    <tr>\n",
       "      <th>9513</th>\n",
       "      <td>2021-02-24 04:08:27</td>\n",
       "      <td>PRESENCE</td>\n",
       "      <td>NaN</td>\n",
       "      <td>1.0</td>\n",
       "    </tr>\n",
       "    <tr>\n",
       "      <th>9587</th>\n",
       "      <td>2021-02-25 04:43:51</td>\n",
       "      <td>PRESENCE</td>\n",
       "      <td>NaN</td>\n",
       "      <td>1.0</td>\n",
       "    </tr>\n",
       "  </tbody>\n",
       "</table>\n",
       "<p>79 rows × 4 columns</p>\n",
       "</div>"
      ],
      "text/plain": [
       "                    Date      Type  Unit  Value\n",
       "4391 2020-12-02 02:04:55  PRESENCE   NaN    1.0\n",
       "4457 2020-12-03 05:32:59  PRESENCE   NaN    1.0\n",
       "4511 2020-12-04 04:33:35  PRESENCE   NaN    1.0\n",
       "4577 2020-12-05 08:01:38  PRESENCE   NaN    1.0\n",
       "4651 2020-12-06 05:04:23  PRESENCE   NaN    1.0\n",
       "...                  ...       ...   ...    ...\n",
       "9331 2021-02-21 05:14:32  PRESENCE   NaN    1.0\n",
       "9381 2021-02-22 06:08:54  PRESENCE   NaN    1.0\n",
       "9445 2021-02-23 05:55:09  PRESENCE   NaN    1.0\n",
       "9513 2021-02-24 04:08:27  PRESENCE   NaN    1.0\n",
       "9587 2021-02-25 04:43:51  PRESENCE   NaN    1.0\n",
       "\n",
       "[79 rows x 4 columns]"
      ]
     },
     "execution_count": 24,
     "metadata": {},
     "output_type": "execute_result"
    }
   ],
   "source": [
    "first_time"
   ]
  },
  {
   "cell_type": "code",
   "execution_count": 25,
   "metadata": {},
   "outputs": [
    {
     "name": "stdout",
     "output_type": "stream",
     "text": [
      "<class 'pandas.core.frame.DataFrame'>\n",
      "Int64Index: 79 entries, 4391 to 9587\n",
      "Data columns (total 5 columns):\n",
      " #   Column  Non-Null Count  Dtype         \n",
      "---  ------  --------------  -----         \n",
      " 0   Date    79 non-null     datetime64[ns]\n",
      " 1   Type    79 non-null     object        \n",
      " 2   Unit    0 non-null      float64       \n",
      " 3   Value   79 non-null     float64       \n",
      " 4   Time    79 non-null     object        \n",
      "dtypes: datetime64[ns](1), float64(2), object(2)\n",
      "memory usage: 3.7+ KB\n"
     ]
    }
   ],
   "source": [
    "#Create a new column called Time with only the time as object\n",
    "first_time[\"Time\"] = first_time[\"Date\"].dt.time\n",
    "first_time.info()"
   ]
  },
  {
   "cell_type": "markdown",
   "metadata": {},
   "source": [
    "### Figure out the average time we go to the kitchen for the 1st time in the day"
   ]
  },
  {
   "cell_type": "code",
   "execution_count": 26,
   "metadata": {},
   "outputs": [],
   "source": [
    "time_only = pd.to_datetime(first_time[\"Time\"], format='%H:%M:%S') - pd.to_datetime(first_time[\"Time\"], format='%H:%M:%S').dt.normalize()\n",
    "#Add the column \"Time_only\" into the first_time dataframe\n",
    "first_time[\"Time_only\"] = time_only\n",
    "#Remove column \"Time\" into the first_time dataframe\n",
    "first_time = first_time.drop([\"Time\"], 1)\n",
    "#Rename the column \"Time_only\" into \"Time\"\n",
    "first_time = first_time.rename(columns={\"Time_only\":\"Time\"})"
   ]
  },
  {
   "cell_type": "code",
   "execution_count": 27,
   "metadata": {},
   "outputs": [
    {
     "name": "stdout",
     "output_type": "stream",
     "text": [
      "<class 'pandas.core.frame.DataFrame'>\n",
      "Int64Index: 79 entries, 4391 to 9587\n",
      "Data columns (total 5 columns):\n",
      " #   Column  Non-Null Count  Dtype          \n",
      "---  ------  --------------  -----          \n",
      " 0   Date    79 non-null     datetime64[ns] \n",
      " 1   Type    79 non-null     object         \n",
      " 2   Unit    0 non-null      float64        \n",
      " 3   Value   79 non-null     float64        \n",
      " 4   Time    79 non-null     timedelta64[ns]\n",
      "dtypes: datetime64[ns](1), float64(2), object(1), timedelta64[ns](1)\n",
      "memory usage: 3.7+ KB\n"
     ]
    }
   ],
   "source": [
    "first_time.info()"
   ]
  },
  {
   "cell_type": "code",
   "execution_count": 28,
   "metadata": {},
   "outputs": [
    {
     "data": {
      "text/plain": [
       "count                           79\n",
       "mean     0 days 04:58:28.329113924\n",
       "std      0 days 01:14:03.755286257\n",
       "min                0 days 00:08:44\n",
       "25%                0 days 04:36:36\n",
       "50%                0 days 05:12:59\n",
       "75%         0 days 05:41:14.500000\n",
       "max                0 days 08:01:38\n",
       "Name: Time, dtype: object"
      ]
     },
     "execution_count": 28,
     "metadata": {},
     "output_type": "execute_result"
    }
   ],
   "source": [
    "time_only.describe()"
   ]
  },
  {
   "cell_type": "code",
   "execution_count": 29,
   "metadata": {},
   "outputs": [
    {
     "data": {
      "text/html": [
       "<div>\n",
       "<style scoped>\n",
       "    .dataframe tbody tr th:only-of-type {\n",
       "        vertical-align: middle;\n",
       "    }\n",
       "\n",
       "    .dataframe tbody tr th {\n",
       "        vertical-align: top;\n",
       "    }\n",
       "\n",
       "    .dataframe thead th {\n",
       "        text-align: right;\n",
       "    }\n",
       "</style>\n",
       "<table border=\"1\" class=\"dataframe\">\n",
       "  <thead>\n",
       "    <tr style=\"text-align: right;\">\n",
       "      <th></th>\n",
       "      <th>Date</th>\n",
       "      <th>Type</th>\n",
       "      <th>Unit</th>\n",
       "      <th>Value</th>\n",
       "      <th>Time</th>\n",
       "      <th>Day</th>\n",
       "      <th>time</th>\n",
       "    </tr>\n",
       "  </thead>\n",
       "  <tbody>\n",
       "    <tr>\n",
       "      <th>4391</th>\n",
       "      <td>2020-12-02 02:04:55</td>\n",
       "      <td>PRESENCE</td>\n",
       "      <td>NaN</td>\n",
       "      <td>1.0</td>\n",
       "      <td>0 days 02:04:55</td>\n",
       "      <td>2020-12-02</td>\n",
       "      <td>02:04:55</td>\n",
       "    </tr>\n",
       "    <tr>\n",
       "      <th>4457</th>\n",
       "      <td>2020-12-03 05:32:59</td>\n",
       "      <td>PRESENCE</td>\n",
       "      <td>NaN</td>\n",
       "      <td>1.0</td>\n",
       "      <td>0 days 05:32:59</td>\n",
       "      <td>2020-12-03</td>\n",
       "      <td>05:32:59</td>\n",
       "    </tr>\n",
       "    <tr>\n",
       "      <th>4511</th>\n",
       "      <td>2020-12-04 04:33:35</td>\n",
       "      <td>PRESENCE</td>\n",
       "      <td>NaN</td>\n",
       "      <td>1.0</td>\n",
       "      <td>0 days 04:33:35</td>\n",
       "      <td>2020-12-04</td>\n",
       "      <td>04:33:35</td>\n",
       "    </tr>\n",
       "    <tr>\n",
       "      <th>4577</th>\n",
       "      <td>2020-12-05 08:01:38</td>\n",
       "      <td>PRESENCE</td>\n",
       "      <td>NaN</td>\n",
       "      <td>1.0</td>\n",
       "      <td>0 days 08:01:38</td>\n",
       "      <td>2020-12-05</td>\n",
       "      <td>08:01:38</td>\n",
       "    </tr>\n",
       "    <tr>\n",
       "      <th>4651</th>\n",
       "      <td>2020-12-06 05:04:23</td>\n",
       "      <td>PRESENCE</td>\n",
       "      <td>NaN</td>\n",
       "      <td>1.0</td>\n",
       "      <td>0 days 05:04:23</td>\n",
       "      <td>2020-12-06</td>\n",
       "      <td>05:04:23</td>\n",
       "    </tr>\n",
       "    <tr>\n",
       "      <th>...</th>\n",
       "      <td>...</td>\n",
       "      <td>...</td>\n",
       "      <td>...</td>\n",
       "      <td>...</td>\n",
       "      <td>...</td>\n",
       "      <td>...</td>\n",
       "      <td>...</td>\n",
       "    </tr>\n",
       "    <tr>\n",
       "      <th>9331</th>\n",
       "      <td>2021-02-21 05:14:32</td>\n",
       "      <td>PRESENCE</td>\n",
       "      <td>NaN</td>\n",
       "      <td>1.0</td>\n",
       "      <td>0 days 05:14:32</td>\n",
       "      <td>2021-02-21</td>\n",
       "      <td>05:14:32</td>\n",
       "    </tr>\n",
       "    <tr>\n",
       "      <th>9381</th>\n",
       "      <td>2021-02-22 06:08:54</td>\n",
       "      <td>PRESENCE</td>\n",
       "      <td>NaN</td>\n",
       "      <td>1.0</td>\n",
       "      <td>0 days 06:08:54</td>\n",
       "      <td>2021-02-22</td>\n",
       "      <td>06:08:54</td>\n",
       "    </tr>\n",
       "    <tr>\n",
       "      <th>9445</th>\n",
       "      <td>2021-02-23 05:55:09</td>\n",
       "      <td>PRESENCE</td>\n",
       "      <td>NaN</td>\n",
       "      <td>1.0</td>\n",
       "      <td>0 days 05:55:09</td>\n",
       "      <td>2021-02-23</td>\n",
       "      <td>05:55:09</td>\n",
       "    </tr>\n",
       "    <tr>\n",
       "      <th>9513</th>\n",
       "      <td>2021-02-24 04:08:27</td>\n",
       "      <td>PRESENCE</td>\n",
       "      <td>NaN</td>\n",
       "      <td>1.0</td>\n",
       "      <td>0 days 04:08:27</td>\n",
       "      <td>2021-02-24</td>\n",
       "      <td>04:08:27</td>\n",
       "    </tr>\n",
       "    <tr>\n",
       "      <th>9587</th>\n",
       "      <td>2021-02-25 04:43:51</td>\n",
       "      <td>PRESENCE</td>\n",
       "      <td>NaN</td>\n",
       "      <td>1.0</td>\n",
       "      <td>0 days 04:43:51</td>\n",
       "      <td>2021-02-25</td>\n",
       "      <td>04:43:51</td>\n",
       "    </tr>\n",
       "  </tbody>\n",
       "</table>\n",
       "<p>79 rows × 7 columns</p>\n",
       "</div>"
      ],
      "text/plain": [
       "                    Date      Type  Unit  Value            Time         Day  \\\n",
       "4391 2020-12-02 02:04:55  PRESENCE   NaN    1.0 0 days 02:04:55  2020-12-02   \n",
       "4457 2020-12-03 05:32:59  PRESENCE   NaN    1.0 0 days 05:32:59  2020-12-03   \n",
       "4511 2020-12-04 04:33:35  PRESENCE   NaN    1.0 0 days 04:33:35  2020-12-04   \n",
       "4577 2020-12-05 08:01:38  PRESENCE   NaN    1.0 0 days 08:01:38  2020-12-05   \n",
       "4651 2020-12-06 05:04:23  PRESENCE   NaN    1.0 0 days 05:04:23  2020-12-06   \n",
       "...                  ...       ...   ...    ...             ...         ...   \n",
       "9331 2021-02-21 05:14:32  PRESENCE   NaN    1.0 0 days 05:14:32  2021-02-21   \n",
       "9381 2021-02-22 06:08:54  PRESENCE   NaN    1.0 0 days 06:08:54  2021-02-22   \n",
       "9445 2021-02-23 05:55:09  PRESENCE   NaN    1.0 0 days 05:55:09  2021-02-23   \n",
       "9513 2021-02-24 04:08:27  PRESENCE   NaN    1.0 0 days 04:08:27  2021-02-24   \n",
       "9587 2021-02-25 04:43:51  PRESENCE   NaN    1.0 0 days 04:43:51  2021-02-25   \n",
       "\n",
       "          time  \n",
       "4391  02:04:55  \n",
       "4457  05:32:59  \n",
       "4511  04:33:35  \n",
       "4577  08:01:38  \n",
       "4651  05:04:23  \n",
       "...        ...  \n",
       "9331  05:14:32  \n",
       "9381  06:08:54  \n",
       "9445  05:55:09  \n",
       "9513  04:08:27  \n",
       "9587  04:43:51  \n",
       "\n",
       "[79 rows x 7 columns]"
      ]
     },
     "execution_count": 29,
     "metadata": {},
     "output_type": "execute_result"
    }
   ],
   "source": [
    "first_time[\"Day\"] = first_time[\"Date\"].dt.date\n",
    "first_time[\"time\"] = first_time[\"Date\"].dt.time\n",
    "first_time"
   ]
  },
  {
   "cell_type": "code",
   "execution_count": 46,
   "metadata": {},
   "outputs": [
    {
     "data": {
      "text/plain": [
       "<AxesSubplot:xlabel='Day'>"
      ]
     },
     "execution_count": 46,
     "metadata": {},
     "output_type": "execute_result"
    },
    {
     "data": {
      "image/png": "[encoded data removed]",
      "text/plain": [
       "<Figure size 720x504 with 1 Axes>"
      ]
     },
     "metadata": {
      "needs_background": "light"
     },
     "output_type": "display_data"
    }
   ],
   "source": [
    "first_time.plot.line(x = \"Day\", y = \"Time\", legend = False, figsize = (10,7))"
   ]
  },
  {
   "cell_type": "code",
   "execution_count": 43,
   "metadata": {},
   "outputs": [
    {
     "data": {
      "text/plain": [
       "<AxesSubplot:ylabel='Frequency'>"
      ]
     },
     "execution_count": 43,
     "metadata": {},
     "output_type": "execute_result"
    },
    {
     "data": {
      "image/png": "[encoded data removed]",
      "text/plain": [
       "<Figure size 720x504 with 1 Axes>"
      ]
     },
     "metadata": {
      "needs_background": "light"
     },
     "output_type": "display_data"
    }
   ],
   "source": [
    "first_time['Time'].astype('timedelta64[h]').plot.hist(x = \"Day\", figsize = (10,7))"
   ]
  },
  {
   "cell_type": "code",
   "execution_count": 44,
   "metadata": {},
   "outputs": [
    {
     "data": {
      "text/plain": [
       "<AxesSubplot:>"
      ]
     },
     "execution_count": 44,
     "metadata": {},
     "output_type": "execute_result"
    },
    {
     "data": {
      "image/png": "[encoded data removed]",
      "text/plain": [
       "<Figure size 720x504 with 1 Axes>"
      ]
     },
     "metadata": {
      "needs_background": "light"
     },
     "output_type": "display_data"
    }
   ],
   "source": [
    "first_time['Time'].astype('timedelta64[h]').plot.box(x = \"Day\", figsize = (10, 7))"
   ]
  },
  {
   "cell_type": "code",
   "execution_count": 45,
   "metadata": {},
   "outputs": [
    {
     "data": {
      "text/plain": [
       "<AxesSubplot:>"
      ]
     },
     "execution_count": 45,
     "metadata": {},
     "output_type": "execute_result"
    },
    {
     "data": {
      "image/png": "[encoded data removed]",
      "text/plain": [
       "<Figure size 432x288 with 1 Axes>"
      ]
     },
     "metadata": {
      "needs_background": "light"
     },
     "output_type": "display_data"
    }
   ],
   "source": [
    "first_time['Time'].astype('timedelta64[h]').plot(x = \"Day\")"
   ]
  }
 ],
 "metadata": {
  "kernelspec": {
   "display_name": "Python 3",
   "language": "python",
   "name": "python3"
  },
  "language_info": {
   "codemirror_mode": {
    "name": "ipython",
    "version": 3
   },
   "file_extension": ".py",
   "mimetype": "text/x-python",
   "name": "python",
   "nbconvert_exporter": "python",
   "pygments_lexer": "ipython3",
   "version": "3.8.5"
  }
 },
 "nbformat": 4,
 "nbformat_minor": 4
}
