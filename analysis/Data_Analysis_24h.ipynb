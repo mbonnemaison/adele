{
 "cells": [
  {
   "cell_type": "markdown",
   "metadata": {},
   "source": [
    "## Analysis 24h\n",
    "From the 3 months data analysis, we obtained a mean and standard deviation for a couple of parameters. Any value that is within 1 standard deviation from the mean for the parameter is considered normal (right range).\n",
    "Goals of this analysis:\n",
    "- Find out what time we entered the kitchen for the first time of the day\n",
    "- How much time we spent in the kitchen\n",
    "- Find out whether the first entry time and the time spent in the kitchen are within 1 standard deviation from the mean obtained in the 3 months data analysis.\n",
    "- Send an email if it is not in the right range."
   ]
  },
  {
   "cell_type": "code",
   "execution_count": null,
   "metadata": {},
   "outputs": [],
   "source": [
    "import pandas as pd"
   ]
  },
  {
   "cell_type": "markdown",
   "metadata": {},
   "source": [
    "Information from Data_Analysis_3_months.ipynb"
   ]
  },
  {
   "cell_type": "code",
   "execution_count": null,
   "metadata": {},
   "outputs": [],
   "source": [
    "#First time in the kitchen\n",
    "first_time_mean = pd.Timedelta('0 days 05:16:12.755555555')\n",
    "first_time_std = pd.Timedelta('0 days 01:28:59.013996650')\n",
    "\n",
    "#Amount of time spent in the kitchen daily\n",
    "time_kitchen_mean = pd.Timedelta('0 days 04:18:30.288888888')\n",
    "time_kitchen_std = pd.Timedelta('0 days 00:49:18.414201859')"
   ]
  },
  {
   "cell_type": "code",
   "execution_count": null,
   "metadata": {},
   "outputs": [],
   "source": [
    "data = pd.read_csv('24h_data/Adéle_du_2021-04-1_au_2021-04-1.csv', sep = ';')"
   ]
  },
  {
   "cell_type": "code",
   "execution_count": null,
   "metadata": {},
   "outputs": [],
   "source": [
    "#Remove columns we don't need\n",
    "data = data.drop(['Objet', \"Équipement\", \"Commande\"], axis = 1)"
   ]
  },
  {
   "cell_type": "code",
   "execution_count": null,
   "metadata": {},
   "outputs": [],
   "source": [
    "#Rename column heads\n",
    "data = data.rename(columns = {'Type générique':'Parameter', 'Valeur':'Value', 'Unité':'Unit'})"
   ]
  },
  {
   "cell_type": "code",
   "execution_count": null,
   "metadata": {},
   "outputs": [],
   "source": [
    "#Convert dates into datetime64 data type\n",
    "data['Date'] = pd.to_datetime(data['Date'])"
   ]
  },
  {
   "cell_type": "code",
   "execution_count": null,
   "metadata": {},
   "outputs": [],
   "source": [
    "data.info()"
   ]
  },
  {
   "cell_type": "code",
   "execution_count": null,
   "metadata": {},
   "outputs": [],
   "source": [
    "#Select rows where the parameter is PRESENCE\n",
    "presence = data.loc[(data['Parameter'] == 'PRESENCE')]"
   ]
  },
  {
   "cell_type": "code",
   "execution_count": null,
   "metadata": {},
   "outputs": [],
   "source": [
    "#Get the time expressed in Timedelta\n",
    "initial = presence.iloc[0,0] - presence.iloc[0,0].normalize()"
   ]
  },
  {
   "cell_type": "code",
   "execution_count": null,
   "metadata": {},
   "outputs": [],
   "source": [
    "str_initial_time = str(initial)[7:]"
   ]
  },
  {
   "cell_type": "code",
   "execution_count": null,
   "metadata": {},
   "outputs": [],
   "source": [
    "str_initial_day = str(presence.iloc[0,0])[:10]"
   ]
  },
  {
   "cell_type": "code",
   "execution_count": null,
   "metadata": {},
   "outputs": [],
   "source": [
    "#Figure out if initial is in the proper range\n",
    "time_in_range = (first_time_mean - first_time_std) < initial < (first_time_mean + first_time_std)"
   ]
  },
  {
   "cell_type": "code",
   "execution_count": null,
   "metadata": {},
   "outputs": [],
   "source": [
    "import smtplib, ssl\n",
    "\n",
    "smtp_server = 'smtp.gmail.com'\n",
    "port = 465\n",
    "sender = 'adeletest231@gmail.com'\n",
    "password = input('Enter your password here: ')\n",
    "\n",
    "#We need to know who we are going to send the email to & the message\n",
    "receiver = \"bonnemaison.mathilde@gmail.com\"\n",
    "#message is the content of the email.\n",
    "#Note: w/o From, to and  the format method, the receiver is bcc and the message is not directly sent to the receiver\n",
    "message_entry = \"\"\"\\\n",
    "From:{}\n",
    "To:{}\n",
    "Subject: First entry in kitchen on {}\n",
    "\n",
    "This is to inform you that we went to the kitchen for the first time at {} on {}.\n",
    "\"\"\".format(sender,receiver, str_initial_day, str_initial_time, str_initial_day)\n",
    "\n",
    "#To get the encryption context:\n",
    "context = ssl.create_default_context()\n",
    "\n",
    "if time_in_range != True:\n",
    "    with smtplib.SMTP_SSL(smtp_server, port, context = context) as server:\n",
    "        server.login(sender, password)\n",
    "    #send email here\n",
    "        server.sendmail(sender, receiver, message_entry)\n"
   ]
  },
  {
   "cell_type": "markdown",
   "metadata": {},
   "source": [
    "## **Time spent in the kitchen**"
   ]
  },
  {
   "cell_type": "code",
   "execution_count": null,
   "metadata": {},
   "outputs": [],
   "source": [
    "presence.head()"
   ]
  },
  {
   "cell_type": "code",
   "execution_count": null,
   "metadata": {},
   "outputs": [],
   "source": [
    "presence.shape[0]\n",
    "presence.info()"
   ]
  },
  {
   "cell_type": "code",
   "execution_count": null,
   "metadata": {},
   "outputs": [],
   "source": [
    "timedeltas_24h = []\n",
    "duration = pd.Timedelta(days = 0)\n",
    "n = presence.index.min()\n",
    "while n < presence.index.max():\n",
    "    timedeltas_24h.append(presence['Date'][n+1] - presence['Date'][n])\n",
    "    n += 2\n",
    "for i in timedeltas_24h:\n",
    "    duration += i\n",
    "#duration is the time spent in the kitchen in 1 day.\n",
    "duration"
   ]
  },
  {
   "cell_type": "code",
   "execution_count": null,
   "metadata": {},
   "outputs": [],
   "source": [
    "duration_in_range = (time_kitchen_mean - time_kitchen_std) < duration < (time_kitchen_mean + time_kitchen_std)"
   ]
  },
  {
   "cell_type": "code",
   "execution_count": null,
   "metadata": {},
   "outputs": [],
   "source": [
    "str_duration_time = str(duration)[7:]\n",
    "str_duration_day = str(presence.iloc[0,0])[:10]"
   ]
  },
  {
   "cell_type": "code",
   "execution_count": null,
   "metadata": {},
   "outputs": [],
   "source": [
    "import smtplib, ssl\n",
    "\n",
    "smtp_server = 'smtp.gmail.com'\n",
    "port = 465\n",
    "sender = 'adeletest231@gmail.com'\n",
    "password = input('Enter your password here: ')\n",
    "\n",
    "#We need to know who we are going to send the email to & the message\n",
    "receiver = \"bonnemaison.mathilde@gmail.com\"\n",
    "#message is the content of the email.\n",
    "#Note: w/o From, to and  the format method, the receiver is bcc and the message is not directly sent to the receiver\n",
    "message_duration = \"\"\"\\\n",
    "From:{}\n",
    "To:{}\n",
    "Subject: Time spent in kitchen on {}\n",
    "\n",
    "This is to inform you that we spent {} in the kitchen on {}.\n",
    "\"\"\".format(sender,receiver, str_duration_day, str_duration_time, str_duration_day)\n",
    "\n",
    "#To get the encryption context:\n",
    "context = ssl.create_default_context()\n",
    "\n",
    "if duration_in_range != True:\n",
    "    with smtplib.SMTP_SSL(smtp_server, port, context = context) as server:\n",
    "        server.login(sender, password)\n",
    "    #send email here\n",
    "        server.sendmail(sender, receiver, message_duration)"
   ]
  }
 ],
 "metadata": {
  "kernelspec": {
   "display_name": "Python 3",
   "language": "python",
   "name": "python3"
  },
  "language_info": {
   "codemirror_mode": {
    "name": "ipython",
    "version": 3
   },
   "file_extension": ".py",
   "mimetype": "text/x-python",
   "name": "python",
   "nbconvert_exporter": "python",
   "pygments_lexer": "ipython3",
   "version": "3.8.5"
  }
 },
 "nbformat": 4,
 "nbformat_minor": 4
}
